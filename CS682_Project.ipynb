{
  "nbformat": 4,
  "nbformat_minor": 0,
  "metadata": {
    "colab": {
      "name": "CS682 Project.ipynb",
      "provenance": [],
      "include_colab_link": true
    },
    "kernelspec": {
      "name": "python3",
      "display_name": "Python 3"
    },
    "language_info": {
      "name": "python"
    }
  },
  "cells": [
    {
      "cell_type": "markdown",
      "metadata": {
        "id": "view-in-github",
        "colab_type": "text"
      },
      "source": [
        "<a href=\"https://colab.research.google.com/github/divya2648/CS682/blob/main/CS682_Project.ipynb\" target=\"_parent\"><img src=\"https://colab.research.google.com/assets/colab-badge.svg\" alt=\"Open In Colab\"/></a>"
      ]
    },
    {
      "cell_type": "markdown",
      "source": [
        "# **Import and Initialization**"
      ],
      "metadata": {
        "id": "cmnr6PUHs250"
      }
    },
    {
      "cell_type": "code",
      "execution_count": null,
      "metadata": {
        "id": "CIAXCOmxGSgb"
      },
      "outputs": [],
      "source": [
        "!pip install pycountry"
      ]
    },
    {
      "cell_type": "code",
      "source": [
        "import pandas as pd\n",
        "import plotly.express as px\n",
        "import matplotlib.pyplot as plt\n",
        "import plotly.graph_objects as go\n",
        "\n",
        "import requests\n",
        "import json\n",
        "import csv\n",
        "\n",
        "from geopy import distance\n",
        "from geopy.geocoders import Nominatim\n",
        "from scipy.cluster.vq import kmeans2\n",
        "from matplotlib.ticker import PercentFormatter\n",
        "from scipy.cluster.hierarchy import dendrogram, linkage, fcluster\n",
        "\n",
        "#Authorize access to google drive\n",
        "from google.colab import drive\n",
        "drive.mount('/content/drive', force_remount=True)"
      ],
      "metadata": {
        "id": "3_il77IKcRYB"
      },
      "execution_count": null,
      "outputs": []
    },
    {
      "cell_type": "code",
      "source": [
        "#Dictionary to map US states to State Codes\n",
        "us_state_to_abbrev = {\n",
        "  \"Alabama\": \"AL\",\n",
        "  \"Alaska\": \"AK\",\n",
        "  \"Arizona\": \"AZ\",\n",
        "  \"Arkansas\": \"AR\",\n",
        "  \"California\": \"CA\",\n",
        "  \"Colorado\": \"CO\",\n",
        "  \"Connecticut\": \"CT\",\n",
        "  \"Delaware\": \"DE\",\n",
        "  \"Florida\": \"FL\",\n",
        "  \"Georgia\": \"GA\",\n",
        "  \"Hawaii\": \"HI\",\n",
        "  \"Idaho\": \"ID\",\n",
        "  \"Illinois\": \"IL\",\n",
        "  \"Indiana\": \"IN\",\n",
        "  \"Iowa\": \"IA\",\n",
        "  \"Kansas\": \"KS\",\n",
        "  \"Kentucky\": \"KY\",\n",
        "  \"Louisiana\": \"LA\",\n",
        "  \"Maine\": \"ME\",\n",
        "  \"Maryland\": \"MD\",\n",
        "  \"Massachusetts\": \"MA\",\n",
        "  \"Michigan\": \"MI\",\n",
        "  \"Minnesota\": \"MN\",\n",
        "  \"Mississippi\": \"MS\",\n",
        "  \"Missouri\": \"MO\",\n",
        "  \"Montana\": \"MT\",\n",
        "  \"Nebraska\": \"NE\",\n",
        "  \"Nevada\": \"NV\",\n",
        "  \"New Hampshire\": \"NH\",\n",
        "  \"New Jersey\": \"NJ\",\n",
        "  \"New Mexico\": \"NM\",\n",
        "  \"New York\": \"NY\",\n",
        "  \"North Carolina\": \"NC\",\n",
        "  \"North Dakota\": \"ND\",\n",
        "  \"Ohio\": \"OH\",\n",
        "  \"Oklahoma\": \"OK\",\n",
        "  \"Oregon\": \"OR\",\n",
        "  \"Pennsylvania\": \"PA\",\n",
        "  \"Rhode Island\": \"RI\",\n",
        "  \"South Carolina\": \"SC\",\n",
        "  \"South Dakota\": \"SD\",\n",
        "  \"Tennessee\": \"TN\",\n",
        "  \"Texas\": \"TX\",\n",
        "  \"Utah\": \"UT\",\n",
        "  \"Vermont\": \"VT\",\n",
        "  \"Virginia\": \"VA\",\n",
        "  \"Washington\": \"WA\",\n",
        "  \"West Virginia\": \"WV\",\n",
        "  \"Wisconsin\": \"WI\",\n",
        "  \"Wyoming\": \"WY\",\n",
        "  \"District of Columbia\": \"DC\",\n",
        "  \"American Samoa\": \"AS\",\n",
        "  \"Guam\": \"GU\",\n",
        "  \"Northern Mariana Islands\": \"MP\",\n",
        "  \"Puerto Rico\": \"PR\",\n",
        "  \"United States Minor Outlying Islands\": \"UM\",\n",
        "  \"U.S. Virgin Islands\": \"VI\",\n",
        "}"
      ],
      "metadata": {
        "id": "xANyJontIo3m"
      },
      "execution_count": null,
      "outputs": []
    },
    {
      "cell_type": "markdown",
      "source": [
        "# **Fetch irradiance and temperature for given citites**"
      ],
      "metadata": {
        "id": "2l484WP7tkAi"
      }
    },
    {
      "cell_type": "code",
      "source": [
        "# Fetch the lat-lon file into a dataframe\n",
        "df_lat_lon = pd.read_excel('/content/drive/My Drive/ColabNotebooks/inputFolder/lat-lon.xlsx')\n",
        "\n",
        "# Add two new columns \"City Name\" and \"State Code/Country Name\"\n",
        "df_lat_lon[\"City Name\"] = pd.NaT\n",
        "df_lat_lon[\"State Code/Country Name\"] = pd.NaT\n",
        "\n",
        "# Use geolocator to fetch city and state code (for US cities)/ country name using latitude and longitude and populate dfll dataframe\n",
        "geolocator = Nominatim(user_agent='myapplication')\n",
        "for index, row in df_lat_lon.iterrows():\n",
        "  address = geolocator.reverse(str(row[0])+\",\"+str(row[1])).raw['address']\n",
        "  df_lat_lon.loc[index,\"City Name\"] = address.get('city', '')\n",
        "  if address.get('country', '') == \"United States\":\n",
        "    df_lat_lon.loc[index,\"State Code/Country Name\"] = us_state_to_abbrev.get(address.get('state', ''))\n",
        "  else:\n",
        "    df_lat_lon.loc[index,\"State Code/Country Name\"] = address.get('country', '')\n",
        "\n",
        "#Drop NaT values and update the lat-lon file\n",
        "df_lat_lon = df_lat_lon.dropna()"
      ],
      "metadata": {
        "id": "ttQeY6qnhEb5"
      },
      "execution_count": 211,
      "outputs": []
    },
    {
      "cell_type": "code",
      "source": [
        "#fetch the city-name file into a dataframe\n",
        "df_city_name = pd.read_excel('/content/drive/My Drive/ColabNotebooks/inputFolder/city-name.xlsx')\n",
        "\n",
        "#Add two new columns \"Latitude\" and \"Longitude\"\n",
        "df_city_name[\"Latitude\"] = pd.NaT\n",
        "df_city_name[\"Longitude\"] = pd.NaT\n",
        "\n",
        "# Use geolocator to latitude and longitude using city and state code (for US cities)/ country name and populate dfcity dataframe\n",
        "geolocator = Nominatim(user_agent='myapplication')\n",
        "for index, row in df_city_name.iterrows():\n",
        "  location = geolocator.geocode(row[0]+\",\"+row[1],timeout=1000)\n",
        "  if not location == None:\n",
        "    df_city_name.loc[index,\"Latitude\"]=location.latitude\n",
        "    df_city_name.loc[index,\"Longitude\"]=location.longitude\n",
        "\n",
        "#Drop NaT values and update the lat-lon file\n",
        "df_city_name = df_city_name.dropna()"
      ],
      "metadata": {
        "id": "3juVZO2KhEYR"
      },
      "execution_count": 212,
      "outputs": []
    },
    {
      "cell_type": "code",
      "source": [
        "#Concatenate lat-lon and city-name dataframes without duplicates\n",
        "df_irradiance_temp = pd.concat([df_city_name,df_lat_lon], axis = 0).drop_duplicates().reset_index(drop=True)"
      ],
      "metadata": {
        "id": "ruE9lVHJhEUz"
      },
      "execution_count": 213,
      "outputs": []
    },
    {
      "cell_type": "code",
      "source": [
        "#Add four new columns \"Irradiance\", \"Avg temp\", \"Max temp\", and \"Min temp\"\n",
        "df_irradiance_temp[\"Irradiance\"] = pd.NaT\n",
        "df_irradiance_temp[\"Avg temp\"] = pd.NaT\n",
        "df_irradiance_temp[\"Max temp\"] = pd.NaT\n",
        "df_irradiance_temp[\"Min temp\"] = pd.NaT\n",
        "for index,row in df_irradiance_temp.iterrows():\n",
        "  #Get irradiance and temperature for all the latitude and longitude values in the dataframe\n",
        "  json_data = json.loads(requests.get('https://power.larc.nasa.gov/api/temporal/monthly/point?start=2016&end=2020&latitude='+str(row[2])+'&longitude='+str(row[3])+'&community=re&parameters=ALLSKY_SFC_SW_DWN%2CT2M%2CT2M_MAX%2CT2M_MIN&format=json&header=true').text)\n",
        "  irradiance = json_data['properties']['parameter']['ALLSKY_SFC_SW_DWN']\n",
        "  AvgTemp = json_data['properties']['parameter']['T2M']\n",
        "  maxTemp = json_data['properties']['parameter']['T2M_MAX']\n",
        "  minTemp = json_data['properties']['parameter']['T2M_MIN']\n",
        "  df_irradiance_temp.loc[index,\"Irradiance\"] = (irradiance['201613']+irradiance['201713']+irradiance['201813']+irradiance['201913']+irradiance['202013'])/5\n",
        "  df_irradiance_temp.loc[index,\"Avg temp\"] = (AvgTemp['201613']+AvgTemp['201713']+AvgTemp['201813']+AvgTemp['201913']+AvgTemp['202013'])/5\n",
        "  df_irradiance_temp.loc[index,\"Max temp\"] = (maxTemp['201613']+maxTemp['201713']+maxTemp['201813']+maxTemp['201913']+maxTemp['202013'])/5\n",
        "  df_irradiance_temp.loc[index,\"Min temp\"] = (minTemp['201613']+minTemp['201713']+minTemp['201813']+minTemp['201913']+minTemp['202013'])/5"
      ],
      "metadata": {
        "id": "36lHABiuhENo"
      },
      "execution_count": 214,
      "outputs": []
    },
    {
      "cell_type": "code",
      "source": [
        "# Creating a new irradiance-temp.xlsx in the output folder\n",
        "# df_irradiance_temp.to_excel('/content/drive/My Drive/ColabNotebooks/outputFolder/irradiance-temp.xlsx',index=False)"
      ],
      "metadata": {
        "id": "xbWAilqGhEHx"
      },
      "execution_count": 215,
      "outputs": []
    },
    {
      "cell_type": "markdown",
      "source": [
        "# **Fetch Average NO2 for given cities**"
      ],
      "metadata": {
        "id": "FrJiUm2at2bo"
      }
    },
    {
      "cell_type": "code",
      "source": [
        "# Get the contents of NASA Timeseries files through URL\n",
        "!wget https://so2.gsfc.nasa.gov/no2/pix/time_series/OMNO2_Timeseries_AllCities.csv -q\n",
        "data = pd.read_csv('OMNO2_Timeseries_AllCities.csv',index_col=False, on_bad_lines='skip',skiprows=7)\n",
        "df_average_NO2 = pd.DataFrame(data)"
      ],
      "metadata": {
        "id": "F3npUH36sPcf"
      },
      "execution_count": 216,
      "outputs": []
    },
    {
      "cell_type": "code",
      "source": [
        "sum_med = df_average_NO2.groupby('City')['Median'].mean()\n",
        "\n",
        "with open('OMNO2_Timeseries_AllCities.csv','r') as f_in:\n",
        "    f = csv.reader(f_in)\n",
        "    rows = df_average_NO2.groupby(['City','Country','LonCenter','LatCenter']).agg({'Median': ['mean']})\n",
        "    rows.columns = ['Average NO2']\n",
        "    rows = rows.reset_index()\n",
        "\n",
        "for index, row in rows.iterrows():\n",
        "  #Get latitude and longitude using city and state code (for US cities)/ country name \n",
        "  location = geolocator.geocode(row[0]+\",\"+row[1],timeout=1000)\n",
        "  if not location == None:\n",
        "    rows.loc[index,\"LatCenter\"] = location.latitude\n",
        "    rows.loc[index,\"LonCenter\"] = location.longitude\n",
        "\n",
        "nasa_cities = rows.rename(columns={'City': 'City Name','LonCenter':'Longitude','LatCenter':'Latitude'})"
      ],
      "metadata": {
        "id": "xNDR2fgZhEDN"
      },
      "execution_count": null,
      "outputs": []
    },
    {
      "cell_type": "code",
      "source": [
        "nasa_cities = nasa_cities.apply(pd.to_numeric, errors='ignore')\n",
        "df_irradiance_temp = df_irradiance_temp.apply(pd.to_numeric, errors='ignore')\n",
        "df_irradiance_temp_NO2 = df_irradiance_temp\n",
        "#NO2data = pd.merge(customer_cities,nasa_cities , on=['Longitude','Latitude'])\n",
        "df_irradiance_temp_NO2[\"Average NO2\"] = pd.NaT\n",
        "\n",
        "# Check the nearest city based on latitude and longitude values\n",
        "for index, row in df_irradiance_temp_NO2.iterrows():\n",
        "  min_distance=float('inf')\n",
        "  for nindex, nrow in nasa_cities.iterrows():\n",
        "    if(distance.distance((row['Latitude'],row['Longitude']), (nrow['Latitude'],nrow['Longitude'])).miles < min_distance):\n",
        "      min_distance = distance.distance((row['Latitude'],row['Longitude']), (nrow['Latitude'],nrow['Longitude'])).miles\n",
        "      min_index = nindex\n",
        "  df_irradiance_temp_NO2.loc[index,'Average NO2'] = nasa_cities['Average NO2'].values[min_index]"
      ],
      "metadata": {
        "id": "mzRhJgFqhD2-"
      },
      "execution_count": null,
      "outputs": []
    },
    {
      "cell_type": "code",
      "source": [
        "#Creating a new Average NO2 data in the output folder\n",
        "df_irradiance_temp_NO2.to_excel('/content/drive/My Drive/ColabNotebooks/outputFolder/irradiance_temp_no2_data.xlsx',index=False)"
      ],
      "metadata": {
        "id": "ZJC3hBJwrVJm"
      },
      "execution_count": null,
      "outputs": []
    },
    {
      "cell_type": "markdown",
      "source": [
        "# **Hierarchial Clustering and Non-Hierarchial Clustering**"
      ],
      "metadata": {
        "id": "gIcT2AqhXxAi"
      }
    },
    {
      "cell_type": "markdown",
      "source": [
        "AGGLOMERATIVE HIERARCHIAL CLUSTERING - DENDOGRAM"
      ],
      "metadata": {
        "id": "dwrQsfCNubJD"
      }
    },
    {
      "cell_type": "code",
      "source": [
        "df_clustering = df_irradiance_temp_NO2.filter(items=['City Name','State Code/Country Name','Irradiance', 'Avg temp','Average NO2'])\n",
        "df_clustering = df_clustering.set_index(['City Name','State Code/Country Name'])\n",
        "df_clustering = df_clustering.apply(pd.to_numeric, errors='ignore')\n",
        "\n",
        "# Normalize dataframe values\n",
        "df_clustering=(df_clustering-df_clustering.min())/(df_clustering.max()-df_clustering.min())\n",
        "df_clustering=df_clustering.reset_index()"
      ],
      "metadata": {
        "id": "4SyvBKFyXwJd"
      },
      "execution_count": null,
      "outputs": []
    },
    {
      "cell_type": "code",
      "source": [
        "df_dendogram = df_clustering.set_index(['City Name','State Code/Country Name'])\n",
        "Z = linkage(df_dendogram, 'ward',metric='euclidean')\n",
        "plt.figure(figsize=(26,12))\n",
        "dendrogram(Z,\n",
        "           orientation='top',\n",
        "           distance_sort='descending',\n",
        "           show_leaf_counts=True,\n",
        "           labels = df_clustering.index,\n",
        "           leaf_font_size=12)\n",
        "plt.show()"
      ],
      "metadata": {
        "id": "2ERIEx4BYDgW"
      },
      "execution_count": null,
      "outputs": []
    },
    {
      "cell_type": "markdown",
      "source": [
        "SCATTER MATRIX CHARTS FOR HIERARCHIAL CLUSTERING"
      ],
      "metadata": {
        "id": "zqgHrNCWybLj"
      }
    },
    {
      "cell_type": "code",
      "source": [
        "# fcluster method assigns cluster index to data categorizing into 6 clusters.\n",
        "df_clustering[\"Cluster index\"] = fcluster(Z, t=6, criterion='maxclust')"
      ],
      "metadata": {
        "id": "h4HDpNMCYJHY"
      },
      "execution_count": null,
      "outputs": []
    },
    {
      "cell_type": "code",
      "source": [
        "#3d scatter plot showing the clusters in 3d space.\n",
        "scatter3dPlot = px.scatter_3d(df_clustering, x='Irradiance', y='Avg temp', z='Average NO2',\n",
        "              color='Cluster index', hover_data=['City Name','State Code/Country Name',\"Irradiance\",\"Avg temp\",\"Average NO2\"])\n",
        "scatter3dPlot.update(layout_coloraxis_showscale=False)\n",
        "scatter3dPlot.show()"
      ],
      "metadata": {
        "id": "F_fluOSRYKNS"
      },
      "execution_count": null,
      "outputs": []
    },
    {
      "cell_type": "code",
      "source": [
        "# 2d scatter matrix using plotly express\n",
        "scatter2dPlot = px.scatter_matrix(df_clustering,\n",
        "    dimensions=[\"Irradiance\", \"Avg temp\", \"Average NO2\"],\n",
        "    color=\"Cluster index\", hover_data=['City Name','State Code/Country Name',\"Irradiance\",\"Avg temp\",\"Average NO2\"])\n",
        "scatter2dPlot.update(layout_coloraxis_showscale=False)\n",
        "scatter2dPlot.show()"
      ],
      "metadata": {
        "id": "zpV3xgseYNHe"
      },
      "execution_count": null,
      "outputs": []
    },
    {
      "cell_type": "code",
      "source": [
        "# Pandas scatter matrix to show the cluster patters with 6 clusters.\n",
        "X = df_clustering[['Irradiance','Avg temp','Average NO2']];\n",
        "y = df_clustering['Cluster index'];\n",
        "# removing irregular y axis values and plotting the scatter matix\n",
        "axes=pd.plotting.scatter_matrix(X,c=y,range_padding=0,alpha=2, figsize=(16,12))\n",
        "axes[0,0].set_yticklabels([0,0.2,0.4,0.6,0.8,1])"
      ],
      "metadata": {
        "id": "aEc0uEfkYRXu"
      },
      "execution_count": null,
      "outputs": []
    },
    {
      "cell_type": "markdown",
      "source": [
        "NON-HIERARCHIAL CLUSTERING USING K-MEANS"
      ],
      "metadata": {
        "id": "1IjLoDKhuV-u"
      }
    },
    {
      "cell_type": "code",
      "source": [
        "k_count=6\n",
        "df_kmeans = df_clustering.filter(items=['Irradiance','Avg temp','Average NO2'])\n",
        "kviz,label = kmeans2(df_kmeans, k_count, iter=10, minit='++', missing='warn', check_finite=True)\n",
        "df_clustering[\"Cluster index\"] = label\n",
        "Normalized_df=df_clustering.reset_index()"
      ],
      "metadata": {
        "id": "9kojRY8BYRJD"
      },
      "execution_count": null,
      "outputs": []
    },
    {
      "cell_type": "markdown",
      "source": [
        "SCATTER MATRIX CHARTS FOR NON-HIERARCHIAL CLUSTERING"
      ],
      "metadata": {
        "id": "1iqpkNNj6s6s"
      }
    },
    {
      "cell_type": "code",
      "source": [
        "#3d scatter plot of data obtained from k-means analysis\n",
        "scatter3dPlot3 = px.scatter_3d(df_clustering, x='Irradiance', y='Avg temp', z='Average NO2',\n",
        "              color='Cluster index', hover_data=['City Name','State Code/Country Name',\"Irradiance\",\"Avg temp\",\"Average NO2\"])\n",
        "scatter3dPlot3.update(layout_coloraxis_showscale=False)\n",
        "scatter3dPlot3.show()"
      ],
      "metadata": {
        "id": "1vAnbjz4YhMc"
      },
      "execution_count": null,
      "outputs": []
    },
    {
      "cell_type": "code",
      "source": [
        "# 2d scatter matrix using plotly express for data obtained from kmeans analysis \n",
        "ScatterPlot3 = px.scatter_matrix(df_clustering,\n",
        "    dimensions=[\"Irradiance\", \"Avg temp\", \"Average NO2\"],\n",
        "    color=\"Cluster index\", hover_data=['City Name','State Code/Country Name',\"Irradiance\",\"Avg temp\",\"Average NO2\"])\n",
        "ScatterPlot3.update(layout_coloraxis_showscale=False)\n",
        "ScatterPlot3.show()"
      ],
      "metadata": {
        "id": "jztYN6b9YhJr"
      },
      "execution_count": null,
      "outputs": []
    },
    {
      "cell_type": "code",
      "source": [
        "# Pandas scatter matrix to show the cluster patters with 2 clusters.\n",
        "X = df_clustering[['Irradiance','Avg temp','Average NO2']];\n",
        "y = df_clustering['Cluster index'];\n",
        "# removing irregular y axis values and plotting the scatter matix\n",
        "axes2=pd.plotting.scatter_matrix(X,c=y,range_padding=0,alpha=2, figsize=(16,12))\n",
        "axes2[0,0].set_yticklabels([0,0.2,0.4,0.6,0.8,1])"
      ],
      "metadata": {
        "id": "Ecp6hv6aYhHO"
      },
      "execution_count": null,
      "outputs": []
    },
    {
      "cell_type": "markdown",
      "source": [
        "# **Pareto comparison**"
      ],
      "metadata": {
        "id": "MmP13uPgZWG5"
      }
    },
    {
      "cell_type": "code",
      "source": [
        "df_pareto = df_irradiance_temp_NO2\n",
        "\n",
        "# Calculate DominationCount\n",
        "df_pareto['DominationCount'] = 0\n",
        "for i, row in df_pareto.iterrows():\n",
        "    dominance = 0\n",
        "    for j, row2 in df_pareto.iterrows():\n",
        "        if (row2['Average NO2'] < row['Average NO2']) or (row2['Avg temp'] > row['Avg temp']) or (row2['Irradiance'] < row['Irradiance'] ):\n",
        "          continue\n",
        "        if (row2['Average NO2'] > row['Average NO2']) or (row2['Avg temp'] < row['Avg temp']) or (row2['Irradiance'] > row['Irradiance'] ):\n",
        "          dominance += 1\n",
        "    \n",
        "    df_pareto.at[i, 'DominationCount'] = dominance # Output the final dominance\n",
        "\n",
        "df_pareto=df_pareto.set_index('City Name')"
      ],
      "metadata": {
        "id": "LugYPKCsYhBg"
      },
      "execution_count": null,
      "outputs": []
    },
    {
      "cell_type": "markdown",
      "source": [
        "Pareto Analysis on Irradiance"
      ],
      "metadata": {
        "id": "ZygMpP5VaIKN"
      }
    },
    {
      "cell_type": "code",
      "source": [
        "color1 = 'steelblue'\n",
        "color2 = 'red'\n",
        "line_size = 4\n",
        "\n",
        "df_pareto = df_pareto.sort_values(by='Irradiance', ascending=True)\n",
        "df_pareto['Irradiancecum'] = df_pareto['Irradiance'].cumsum()/df_pareto['Irradiance'].sum()*100\n",
        "fig, ax = plt.subplots(figsize=(20,10))\n",
        "ax.bar(df_pareto.index, df_pareto['Irradiance'], color=color1)\n",
        "ax2 = ax.twinx()\n",
        "ax2.plot(df_pareto.index, df_pareto['Irradiancecum'], color=color2, marker=\"D\", ms=line_size)\n",
        "ax2.yaxis.set_major_formatter(PercentFormatter())\n",
        "ax.tick_params(axis='y', colors=color1)\n",
        "ax2.tick_params(axis='y', colors=color2)\n",
        "\n",
        "ax.set_xticklabels(df_pareto.index, rotation = 90)\n",
        "plt.title(\"Irradiance Distribution\")\n",
        "ax.set_ylabel('Irradiance(kW-hr/m^2/day)')\n",
        "ax2.set_ylabel('Cumulative Distribution')\n",
        "\n",
        "plt.show()"
      ],
      "metadata": {
        "id": "0fFKMZx9Yg64"
      },
      "execution_count": null,
      "outputs": []
    },
    {
      "cell_type": "markdown",
      "source": [
        "Pareto Analysis for Average Temperature"
      ],
      "metadata": {
        "id": "U5vpZh6MaSOE"
      }
    },
    {
      "cell_type": "code",
      "source": [
        "df_pareto = df_pareto.sort_values(by='Avg temp', ascending=False)\n",
        "df_pareto['Avgtempcum'] = df_pareto['Avg temp'].cumsum()/df_pareto['Avg temp'].sum()*100\n",
        "\n",
        "fig, ax = plt.subplots(figsize=(20,10))\n",
        "ax.bar(df_pareto.index, df_pareto['Avg temp'], color=color1)\n",
        "ax2 = ax.twinx()\n",
        "ax2.plot(df_pareto.index, df_pareto['Avgtempcum'], color=color2, marker=\"D\", ms=line_size)\n",
        "ax2.yaxis.set_major_formatter(PercentFormatter())\n",
        "ax.tick_params(axis='y', colors=color1)\n",
        "ax2.tick_params(axis='y', colors=color2)\n",
        "\n",
        "ax.set_xticklabels(df_pareto.index, rotation = 90)\n",
        "plt.title(\"Temperature Distribution\")\n",
        "ax.set_ylabel('Average Temperature(C)')\n",
        "ax2.set_ylabel('Cumulative Distribution')\n",
        "plt.show()"
      ],
      "metadata": {
        "id": "uQkyitIfaVyd"
      },
      "execution_count": null,
      "outputs": []
    },
    {
      "cell_type": "markdown",
      "source": [
        "Pareto Analysis for Average No2"
      ],
      "metadata": {
        "id": "ABNGN36LabD_"
      }
    },
    {
      "cell_type": "code",
      "source": [
        "df_pareto = df_pareto.sort_values(by='Average NO2', ascending=False)\n",
        "df_pareto['AvgNo2cum'] = df_pareto['Average NO2'].cumsum()/df_pareto['Average NO2'].sum()*100\n",
        "fig, ax = plt.subplots(figsize=(20,10))\n",
        "ax.bar(df_pareto.index, df_pareto['Average NO2'], color=color1)\n",
        "ax2 = ax.twinx()\n",
        "ax2.plot(df_pareto.index, df_pareto['AvgNo2cum'], color=color2, marker=\"D\", ms=line_size)\n",
        "ax2.yaxis.set_major_formatter(PercentFormatter())\n",
        "\n",
        "ax.tick_params(axis='y', colors=color1)\n",
        "ax2.tick_params(axis='y', colors=color2)\n",
        "\n",
        "ax.set_xticklabels(df_pareto.index, rotation = 90)\n",
        "plt.title(\"NO2()\")\n",
        "ax.set_ylabel('Average Temperature(C)')\n",
        "ax2.set_ylabel('Cumulative Distribution')\n",
        "plt.show()"
      ],
      "metadata": {
        "id": "1ge4PB8vacTp"
      },
      "execution_count": null,
      "outputs": []
    },
    {
      "cell_type": "markdown",
      "source": [
        "SCATTER AND LINE CHARTS"
      ],
      "metadata": {
        "id": "IeUF_FyYamtA"
      }
    },
    {
      "cell_type": "code",
      "source": [
        "# 3-D SCATTER CHART\n",
        "is_0 = df_pareto['DominationCount']==0\n",
        "fig = px.scatter_3d(df_pareto, x='Irradiance', y='Average NO2', z='Avg temp',\n",
        "                    color='DominationCount',symbol=is_0,hover_data=[df_pareto.index,'DominationCount'])\n",
        "fig.update(layout_showlegend=False)\n",
        "fig.show()"
      ],
      "metadata": {
        "id": "VQBf6WMGai6K"
      },
      "execution_count": null,
      "outputs": []
    },
    {
      "cell_type": "code",
      "source": [
        "# SCATTTER MATRIX CHARTS\n",
        "df_pareto=df_pareto.sort_index()\n",
        "fig = px.scatter_matrix(df_pareto,\n",
        "    dimensions=[\"Irradiance\", \"Average NO2\", \"Avg temp\"],\n",
        "    color=df_pareto.index)\n",
        "\n",
        "fig.show()"
      ],
      "metadata": {
        "id": "WmA5ZjHfasOj"
      },
      "execution_count": null,
      "outputs": []
    },
    {
      "cell_type": "code",
      "source": [
        "#POLAR SCATTER CHART\n",
        "df_pareto=df_pareto.reset_index(inplace=False)\n",
        "df_pareto=df_pareto.drop(columns=['DominationCount'])\n",
        "\n",
        "df_pareto = pd.melt(df_pareto, id_vars=['City Name','Irradiancecum','Avgtempcum','AvgNo2cum'], \n",
        "                  var_name=\"Indicators\", value_name=\"Value\")\n",
        "df_pareto=df_pareto.sort_values('City Name')\n",
        "fig = px.scatter_polar(df_pareto,r='Value',\n",
        "                       theta='Indicators',\n",
        "                       color='City Name')\n",
        "fig.show()"
      ],
      "metadata": {
        "id": "1ZKpGOsKa6qV"
      },
      "execution_count": null,
      "outputs": []
    },
    {
      "cell_type": "code",
      "source": [
        "# POLAR LINE CHART\n",
        "fig = px.line_polar(df_pareto,r='Value',\n",
        "                    theta='Indicators',\n",
        "                    color='City Name',\n",
        "                    line_close=True,\n",
        "                    template=\"plotly_dark\")\n",
        "fig.show()"
      ],
      "metadata": {
        "id": "MYTqY4nnbDjA"
      },
      "execution_count": null,
      "outputs": []
    },
    {
      "cell_type": "markdown",
      "source": [
        "# **Bubble Map Visualization**"
      ],
      "metadata": {
        "id": "0-7bsipctEgS"
      }
    },
    {
      "cell_type": "markdown",
      "source": [
        "BUBBLE MAPS OF IRRADIANCE DATA"
      ],
      "metadata": {
        "id": "HWA0CHu1Vz_4"
      }
    },
    {
      "cell_type": "code",
      "source": [
        "df_bubble = df_irradiance_temp_NO2\n",
        "\n",
        "#Convert the \"object\" type columns to numeric to facilitate plotting\n",
        "df_bubble = df_bubble.apply(pd.to_numeric, errors='ignore')\n",
        "\n",
        "#Data to be visible on hover\n",
        "df_bubble['text'] = 'City Name: '+df_bubble[\"City Name\"]+ \\\n",
        "              '<br>State Code/Country Name: '+df_bubble[\"State Code/Country Name\"]+ \\\n",
        "              '<br>Irradiance: '+df_bubble[\"Irradiance\"].astype(str)+ \\\n",
        "              '<br>Avg temp: '+df_bubble[\"Avg temp\"].astype(str)+ \\\n",
        "              '<br>Max temp: '+df_bubble[\"Max temp\"].astype(str)+ \\\n",
        "              '<br>Min temp: '+df_bubble[\"Min temp\"].astype(str)+ \\\n",
        "              '<br>Average NO2: '+df_bubble[\"Average NO2\"].astype(str)\n",
        "names = [\"0%-10%\",\"10%-20%\",\"20%+\"]"
      ],
      "metadata": {
        "id": "i8bcY3-EvZ0r"
      },
      "execution_count": null,
      "outputs": []
    },
    {
      "cell_type": "code",
      "source": [
        "#Bubble map of the world against Irradiance data:\n",
        "\n",
        "# Sort values on Irradiance to obtain the top 10%, 10%-20% and 20%+\n",
        "df_bubble = df_bubble.sort_values(['Irradiance'], ascending=[0],ignore_index=True)\n",
        "for index,row in df_bubble.iterrows():\n",
        "  if index+1 <= int(len(df_bubble.index)*10/100):\n",
        "    df_bubble.loc[index,'colors'] = \"10%\"\n",
        "  elif index+1 <= int(len(df_bubble.index)*10/100)+int(len(df_bubble.index)*20/100):\n",
        "    df_bubble.loc[index,'colors'] = \"10-20%\"\n",
        "  else:\n",
        "    df_bubble.loc[index,'colors'] = \"20%+\"\n",
        "  \n",
        "# Plot the bubblemap of the natural earth with Irradiance data\n",
        "fig = px.scatter_geo(df_bubble, lat=df_bubble.Latitude,\n",
        "                     lon=df_bubble.Longitude,\n",
        "                     color_discrete_sequence=[ \"red\", \"orange\", \"green\"],\n",
        "                     color = df_bubble['colors'],\n",
        "                     hover_data=[\"City Name\", \"State Code/Country Name\", \"Latitude\", \"Longitude\", \"Irradiance\",\"Avg temp\",\"Max temp\",\"Min temp\",\"Average NO2\"], \n",
        "                     size=df_bubble['Irradiance'],\n",
        "                     projection=\"natural earth\")\n",
        "fig.show()"
      ],
      "metadata": {
        "id": "4svacbR7WE9S"
      },
      "execution_count": null,
      "outputs": []
    },
    {
      "cell_type": "code",
      "source": [
        "# Bubble map of the USA against Irradiance data:\n",
        "\n",
        "# Set values for the sorted Irradiance to obtain the top 10%, 10%-20% and 20%+ and colorcode accordingly\n",
        "limits = [(0,\n",
        "           int(len(df_bubble.index)*10/100)),\n",
        "          (int(len(df_bubble.index)*10/100),\n",
        "           int(len(df_bubble.index)*10/100)+int(len(df_bubble.index)*20/100)),\n",
        "          (int(len(df_bubble.index)*10/100)+int(len(df_bubble.index)*20/100),\n",
        "           int(len(df_bubble.index)))]\n",
        "colors = [\"red\",\"orange\",\"green\"]\n",
        "\n",
        "#Add trace values to figure accordingly\n",
        "fig = go.Figure()\n",
        "for i in range(len(limits)):\n",
        "    lim = limits[i]\n",
        "    df_sub = df_bubble[lim[0]:lim[1]]\n",
        "    fig.add_trace(go.Scattergeo(locationmode = 'USA-states', lon = df_sub['Longitude'], lat = df_sub['Latitude'], text= df_sub['text'],\n",
        "        marker = dict( size = df_sub['Irradiance']*4, color = colors[i], sizemode = 'diameter' ),\n",
        "        name = names[i]))\n",
        "\n",
        "# Plot the bubblemap of the USA with Irradiance data\n",
        "fig.update_layout(\n",
        "        title_text = '2016 to 2020 US Irradiance<br>(Click legend to toggle traces)',\n",
        "        showlegend = True,\n",
        "        geo = dict(scope = 'usa', landcolor = 'rgb(217, 217, 217)')\n",
        "    )\n",
        "fig.show()"
      ],
      "metadata": {
        "id": "DYLmLDRlWJoG"
      },
      "execution_count": null,
      "outputs": []
    },
    {
      "cell_type": "markdown",
      "source": [
        "BUBBLE MAPS OF AVERAGE TEMPERATURE DATA"
      ],
      "metadata": {
        "id": "KoMyjAstWRiN"
      }
    },
    {
      "cell_type": "code",
      "source": [
        "#Bubble map of the world against Avg Temp data:\n",
        "\n",
        "# Sort values on Avg temp to obtain the top 10%, 10%-20% and 20%+\n",
        "df_bubble = df_bubble.sort_values(['Avg temp'],ignore_index=True)\n",
        "for index,row in df_bubble.iterrows():\n",
        "  if index+1 <= int(len(df_bubble.index)*10/100):\n",
        "    df_bubble.loc[index,'colors'] = \"10%\"\n",
        "  elif index+1 <= int(len(df_bubble.index)*10/100)+int(len(df_bubble.index)*20/100):\n",
        "    df_bubble.loc[index,'colors'] = \"10-20%\"\n",
        "  else:\n",
        "    df_bubble.loc[index,'colors'] = \"20%+\"\n",
        "df_bubble['Absolute Avg temp'] = abs(df_bubble['Avg temp'])\n",
        "df_bubble['Absolute Avg temp'] = max(df_bubble['Absolute Avg temp'])+1 - df_bubble['Absolute Avg temp']\n",
        "\n",
        "# Plot the bubblemap of the natural earth with Avg temp data\n",
        "fig = px.scatter_geo(df_bubble, lat=df_bubble.Latitude,\n",
        "                     lon=df_bubble.Longitude,\n",
        "                     color_discrete_sequence=[ \"teal\", \"steelblue\", \"lightblue\"],\n",
        "                     color = df_bubble['colors'],\n",
        "                     hover_data=[\"City Name\", \"State Code/Country Name\", \"Latitude\", \"Longitude\", \"Irradiance\",\"Avg temp\",\"Max temp\",\"Min temp\",\"Average NO2\"], \n",
        "                     size=df_bubble['Absolute Avg temp'],\n",
        "                     projection=\"natural earth\")\n",
        "fig.show()"
      ],
      "metadata": {
        "id": "H7wU2i-MWOIP"
      },
      "execution_count": null,
      "outputs": []
    },
    {
      "cell_type": "code",
      "source": [
        "# Bubble map of the USA against Avg temp data:\n",
        "\n",
        "# Set values for the sorted Avg temp to obtain the top 10%, 10%-20% and 20%+ and colorcode accordingly\n",
        "limits = [(0,int(len(df_bubble.index)*10/100)),\n",
        "          (int(len(df_bubble.index)*10/100),int(len(df_bubble.index)*10/100)+int(len(df_bubble.index)*20/100)),\n",
        "          (int(len(df_bubble.index)*10/100)+int(len(df_bubble.index)*20/100),int(len(df_bubble.index)))]\n",
        "colors = [\"teal\", \"steelblue\", \"lightblue\"]\n",
        "\n",
        "#Add trace values to figure accordingly\n",
        "fig = go.Figure()\n",
        "for i in range(len(limits)):\n",
        "    lim = limits[i]\n",
        "    df_sub = df_bubble[lim[0]:lim[1]]\n",
        "    fig.add_trace(go.Scattergeo(locationmode = 'USA-states', lon = df_sub['Longitude'], lat = df_sub['Latitude'], text= df_sub['text'],\n",
        "        marker = dict( size = df_sub['Absolute Avg temp'], color = colors[i], sizemode = 'diameter' ),\n",
        "        name = names[i]))\n",
        "\n",
        "# Plot the bubblemap of the USA with Avg temp data\n",
        "fig.update_layout(\n",
        "        title_text = '2016 to 2020 US Average temperature<br>(Click legend to toggle traces)',\n",
        "        showlegend = True,\n",
        "        geo = dict(scope = 'usa', landcolor = 'rgb(217, 217, 217)')\n",
        "    )\n",
        "fig.show()"
      ],
      "metadata": {
        "id": "Zuz99-KdWYZC"
      },
      "execution_count": null,
      "outputs": []
    },
    {
      "cell_type": "markdown",
      "source": [
        "BUBBLE MAPS OF AVERAGE NO2 DATA"
      ],
      "metadata": {
        "id": "NI9rY28nWfuM"
      }
    },
    {
      "cell_type": "code",
      "source": [
        "#Bubble map of the world against average NO2 data:\n",
        "\n",
        "# Sort values on Average NO2 to obtain the top 10%, 10%-20% and 20%+\n",
        "df_bubble = df_bubble.sort_values(['Average NO2'],ascending=[0],ignore_index=True)\n",
        "for index,row in df_bubble.iterrows():\n",
        "  if index+1 <= int(len(df_bubble.index)*10/100):\n",
        "    df_bubble.loc[index,'colors'] = \"10%\"\n",
        "  elif index+1 <= int(len(df_bubble.index)*10/100)+int(len(df_bubble.index)*20/100):\n",
        "    df_bubble.loc[index,'colors'] = \"10-20%\"\n",
        "  else:\n",
        "    df_bubble.loc[index,'colors'] = \"20%+\"\n",
        "\n",
        "\n",
        "# Make all values positive and scaleable\n",
        "df_bubble['Absolute Average NO2'] = abs(df_bubble['Average NO2'])\n",
        "df_bubble['Absolute Average NO2'] = df_bubble['Average NO2'] + max(df_bubble['Absolute Average NO2'])+1\n",
        "\n",
        "\n",
        "# Plot the bubblemap of the natural earth with Average NO2 data\n",
        "fig = px.scatter_geo(df_bubble, lat=df_bubble.Latitude,\n",
        "                     lon=df_bubble.Longitude,\n",
        "                     color_discrete_sequence=[ \"Brown\", \"BurlyWood\", \"Wheat\"],\n",
        "                     color = df_bubble['colors'],\n",
        "                     hover_data=[\"City Name\", \"State Code/Country Name\", \"Latitude\", \"Longitude\", \"Irradiance\",\"Avg temp\",\"Max temp\",\"Min temp\",\"Average NO2\"],  \n",
        "                     size=df_bubble['Absolute Average NO2'],\n",
        "                     projection=\"natural earth\")\n",
        "fig.show()"
      ],
      "metadata": {
        "id": "H2kaNnOJWcvJ"
      },
      "execution_count": null,
      "outputs": []
    },
    {
      "cell_type": "code",
      "source": [
        "# Bubble map of the USA against Average NO2 data:\n",
        "\n",
        "# Set values for the sorted Average NO2 to obtain the top 10%, 10%-20% and 20%+ and colorcode accordingly\n",
        "limits = [(0,int(len(df_bubble.index)*10/100)),\n",
        "          (int(len(df_bubble.index)*10/100),int(len(df_bubble.index)*10/100)+int(len(df_bubble.index)*20/100)),\n",
        "          (int(len(df_bubble.index)*10/100)+int(len(df_bubble.index)*20/100),int(len(df_bubble.index)))]\n",
        "colors = [\"Brown\", \"BurlyWood\", \"Wheat\"]\n",
        "\n",
        "#Add trace values to figure accordingly\n",
        "fig = go.Figure()\n",
        "for i in range(len(limits)):\n",
        "    lim = limits[i]\n",
        "    df_sub = df_bubble[lim[0]:lim[1]]\n",
        "    fig.add_trace(go.Scattergeo(locationmode = 'USA-states', lon = df_sub['Longitude'], lat = df_sub['Latitude'], text= df_sub['text'],\n",
        "        marker = dict( size = df_sub['Absolute Average NO2']/2, color = colors[i], sizemode = 'diameter' ),\n",
        "        name = names[i]))\n",
        "\n",
        "# Plot the bubblemap of the USA with Average NO2 data\n",
        "fig.update_layout(\n",
        "        title_text = '2016 to 2020 US Average NO2<br>(Click legend to toggle traces)',\n",
        "        showlegend = True,\n",
        "        geo = dict(scope = 'usa', landcolor = 'rgb(217, 217, 217)')\n",
        "    )\n",
        "fig.show()"
      ],
      "metadata": {
        "id": "2ISwaXehWkyI"
      },
      "execution_count": null,
      "outputs": []
    },
    {
      "cell_type": "markdown",
      "source": [
        "BUBBLE MAPS OF DHI (Datacenter Hotspot Index)"
      ],
      "metadata": {
        "id": "OQJpI86LWtKu"
      }
    },
    {
      "cell_type": "code",
      "source": [
        "# Add Normalized irradiance, Normalized avg temp, Normalized NO2, and DHI columns to the dataframe\n",
        "df_bubble[\"Normalized irradiance\"] = pd.NaT\n",
        "df_bubble[\"Normalized avg temp\"] = pd.NaT\n",
        "df_bubble[\"Normalized NO2\"] = pd.NaT\n",
        "df_bubble[\"DHI\"] = pd.NaT\n",
        "a=b=c=1.0\n",
        "\n",
        "#Calculate and assign the data in the newly added columns of the dataframe\n",
        "for index, row in df_bubble.iterrows():\n",
        "  df_bubble.loc[index,\"Normalized irradiance\"] = df_bubble[\"Irradiance\"][index] / ( max(df_bubble[\"Irradiance\"]) - min(df_bubble[\"Irradiance\"]) )\n",
        "  df_bubble.loc[index,\"Normalized avg temp\"] = 1-( (df_bubble[\"Avg temp\"][index] - min(df_bubble[\"Avg temp\"]) ) / ( max(df_bubble[\"Avg temp\"]) - min(df_bubble[\"Avg temp\"]) ))\n",
        "  df_bubble.loc[index,\"Normalized NO2\"] = (df_bubble[\"Average NO2\"][index] - min(df_bubble[\"Average NO2\"]) )/ ( max(df_bubble[\"Average NO2\"]) - min(df_bubble[\"Average NO2\"]) )\n",
        "  df_bubble.loc[index,\"DHI\"] = ( a * df_bubble[\"Normalized irradiance\"][index] + b * df_bubble[\"Normalized avg temp\"][index] + c * df_bubble[\"Normalized NO2\"][index] ) / 3\n",
        "\n",
        "#Convert the \"object\" type columns to numeric to facilitate plotting\n",
        "df_bubble = df_bubble.apply(pd.to_numeric, errors='ignore')\n",
        "\n",
        "#Data to be visible on hover\n",
        "df_bubble['text'] = 'City Name: '+df_bubble[\"City Name\"]+ \\\n",
        "              '<br>State Code/Country Name: '+df_bubble[\"State Code/Country Name\"]+ \\\n",
        "              '<br>DHI: '+df_bubble[\"DHI\"].astype(str)+ \\\n",
        "              '<br>Irradiance: '+df_bubble[\"Irradiance\"].astype(str)+ \\\n",
        "              '<br>Avg temp: '+df_bubble[\"Avg temp\"].astype(str)+ \\\n",
        "              '<br>Max temp: '+df_bubble[\"Max temp\"].astype(str)+ \\\n",
        "              '<br>Min temp: '+df_bubble[\"Min temp\"].astype(str)+ \\\n",
        "              '<br>Average NO2: '+df_bubble[\"Average NO2\"].astype(str)"
      ],
      "metadata": {
        "id": "VbN6cJk5Wpl8"
      },
      "execution_count": null,
      "outputs": []
    },
    {
      "cell_type": "code",
      "source": [
        "#Bubble map of the world against DHI data:\n",
        "\n",
        "# Sort values on DHI to obtain the top 10%, 10%-20% and 20%+\n",
        "df_bubble = df_bubble.sort_values(['DHI'], ascending=[0],ignore_index=True)\n",
        "for index,row in df_bubble.iterrows():\n",
        "  if index+1 <= int(len(df_bubble.index)*10/100):\n",
        "    df_bubble.loc[index,'colors'] = \"10%\"\n",
        "  elif index+1 <= int(len(df_bubble.index)*10/100)+int(len(df_bubble.index)*20/100):\n",
        "    df_bubble.loc[index,'colors'] = \"10-20%\"\n",
        "  else:\n",
        "    df_bubble.loc[index,'colors'] = \"20%+\"\n",
        "\n",
        "# Plot the bubblemap of the natural earth with DHI data\n",
        "fig = px.scatter_geo(df_bubble, lat=df_bubble.Latitude,\n",
        "                     lon=df_bubble.Longitude,\n",
        "                     color_discrete_sequence=[ \"darkgreen\", \"limegreen\", \"yellowgreen\"],\n",
        "                     color = df_bubble['colors'],\n",
        "                     hover_data=[\"City Name\", \"State Code/Country Name\", \"Irradiance\",\"Avg temp\",\"Max temp\",\"Min temp\",\"Average NO2\"], \n",
        "                     size=df_bubble['DHI'],\n",
        "                     projection=\"natural earth\")\n",
        "fig.show()"
      ],
      "metadata": {
        "id": "EhStRFeiWyyw"
      },
      "execution_count": null,
      "outputs": []
    },
    {
      "cell_type": "code",
      "source": [
        "# Bubble map of the USA against DHI data:\n",
        "              \n",
        "# Set values for the sorted DHI to obtain the top 10%, 10%-20% and 20%+ and colorcode accordingly\n",
        "limits = [(0,int(len(df_bubble.index)*10/100)),\n",
        "          (int(len(df_bubble.index)*10/100),int(len(df_bubble.index)*10/100)+int(len(df_bubble.index)*20/100)),\n",
        "          (int(len(df_bubble.index)*10/100)+int(len(df_bubble.index)*20/100),int(len(df_bubble.index)))]\n",
        "colors = [\"darkgreen\", \"limegreen\", \"yellowgreen\"]\n",
        "\n",
        "#Add trace values to figure accordingly\n",
        "fig = go.Figure()\n",
        "for i in range(len(limits)):\n",
        "    lim = limits[i]\n",
        "    df_sub = df_bubble[lim[0]:lim[1]]\n",
        "    fig.add_trace(go.Scattergeo(locationmode = 'USA-states', lon = df_sub['Longitude'], lat = df_sub['Latitude'], text= df_sub['text'],\n",
        "        marker = dict( size = df_sub['DHI']*30, color = colors[i], sizemode = 'diameter' ),\n",
        "        name = names[i]))\n",
        "\n",
        "# Plot the bubblemap of the USA with DHI data\n",
        "fig.update_layout(\n",
        "        title_text = '2016 to 2020 US Datacenter Hotspot Index<br>(Click legend to toggle traces)',\n",
        "        showlegend = True,\n",
        "        geo = dict(scope = 'usa', landcolor = 'rgb(217, 217, 217)')\n",
        "    )\n",
        "fig.show()"
      ],
      "metadata": {
        "id": "A19ZNkFUW17R"
      },
      "execution_count": null,
      "outputs": []
    }
  ]
}