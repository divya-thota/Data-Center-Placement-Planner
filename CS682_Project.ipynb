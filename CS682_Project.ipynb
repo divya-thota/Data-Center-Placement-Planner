{
  "nbformat": 4,
  "nbformat_minor": 0,
  "metadata": {
    "colab": {
      "name": "CS682 Project.ipynb",
      "provenance": [],
      "include_colab_link": true
    },
    "kernelspec": {
      "name": "python3",
      "display_name": "Python 3"
    },
    "language_info": {
      "name": "python"
    }
  },
  "cells": [
    {
      "cell_type": "markdown",
      "metadata": {
        "id": "view-in-github",
        "colab_type": "text"
      },
      "source": [
        "<a href=\"https://colab.research.google.com/github/divya2648/CS682/blob/main/CS682_Project.ipynb\" target=\"_parent\"><img src=\"https://colab.research.google.com/assets/colab-badge.svg\" alt=\"Open In Colab\"/></a>"
      ]
    },
    {
      "cell_type": "code",
      "execution_count": 1,
      "metadata": {
        "id": "CIAXCOmxGSgb",
        "colab": {
          "base_uri": "https://localhost:8080/"
        },
        "outputId": "38e16ed0-92db-4060-e3f4-dd88fec0e163"
      },
      "outputs": [
        {
          "output_type": "stream",
          "name": "stdout",
          "text": [
            "Looking in indexes: https://pypi.org/simple, https://us-python.pkg.dev/colab-wheels/public/simple/\n",
            "Collecting pycountry\n",
            "  Downloading pycountry-22.3.5.tar.gz (10.1 MB)\n",
            "\u001b[K     |████████████████████████████████| 10.1 MB 17.4 MB/s \n",
            "\u001b[?25h  Installing build dependencies ... \u001b[?25l\u001b[?25hdone\n",
            "  Getting requirements to build wheel ... \u001b[?25l\u001b[?25hdone\n",
            "    Preparing wheel metadata ... \u001b[?25l\u001b[?25hdone\n",
            "Requirement already satisfied: setuptools in /usr/local/lib/python3.7/dist-packages (from pycountry) (57.4.0)\n",
            "Building wheels for collected packages: pycountry\n",
            "  Building wheel for pycountry (PEP 517) ... \u001b[?25l\u001b[?25hdone\n",
            "  Created wheel for pycountry: filename=pycountry-22.3.5-py2.py3-none-any.whl size=10681845 sha256=e8ad3ad67a68e12faa32db5952d6d11d3007bd6191b4f27132563168789513a2\n",
            "  Stored in directory: /root/.cache/pip/wheels/0e/06/e8/7ee176e95ea9a8a8c3b3afcb1869f20adbd42413d4611c6eb4\n",
            "Successfully built pycountry\n",
            "Installing collected packages: pycountry\n",
            "Successfully installed pycountry-22.3.5\n"
          ]
        }
      ],
      "source": [
        "!pip install pycountry"
      ]
    },
    {
      "cell_type": "code",
      "source": [
        "import pandas as pd\n",
        "import requests\n",
        "import json\n",
        "import csv\n",
        "from geopy import distance\n",
        "from geopy.geocoders import Nominatim\n",
        "from google.colab import drive\n",
        "#Authorize access to google drive\n",
        "drive.mount('/content/drive', force_remount=True)\n",
        "\n"
      ],
      "metadata": {
        "colab": {
          "base_uri": "https://localhost:8080/"
        },
        "id": "3_il77IKcRYB",
        "outputId": "c9cff9e5-3d34-4979-d33c-61a0ab16af2a"
      },
      "execution_count": 16,
      "outputs": [
        {
          "output_type": "stream",
          "name": "stdout",
          "text": [
            "Mounted at /content/drive\n"
          ]
        }
      ]
    },
    {
      "cell_type": "code",
      "source": [
        "#Dictionary to map US states to State Codes\n",
        "us_state_to_abbrev = {\n",
        "\"Alabama\": \"AL\",\n",
        "\"Alaska\": \"AK\",\n",
        "\"Arizona\": \"AZ\",\n",
        "\"Arkansas\": \"AR\",\n",
        "\"California\": \"CA\",\n",
        "\"Colorado\": \"CO\",\n",
        "\"Connecticut\": \"CT\",\n",
        "\"Delaware\": \"DE\",\n",
        "\"Florida\": \"FL\",\n",
        "\"Georgia\": \"GA\",\n",
        "\"Hawaii\": \"HI\",\n",
        "\"Idaho\": \"ID\",\n",
        "\"Illinois\": \"IL\",\n",
        "\"Indiana\": \"IN\",\n",
        "\"Iowa\": \"IA\",\n",
        "\"Kansas\": \"KS\",\n",
        "\"Kentucky\": \"KY\",\n",
        "\"Louisiana\": \"LA\",\n",
        "\"Maine\": \"ME\",\n",
        "\"Maryland\": \"MD\",\n",
        "\"Massachusetts\": \"MA\",\n",
        "\"Michigan\": \"MI\",\n",
        "\"Minnesota\": \"MN\",\n",
        "\"Mississippi\": \"MS\",\n",
        "\"Missouri\": \"MO\",\n",
        "\"Montana\": \"MT\",\n",
        "\"Nebraska\": \"NE\",\n",
        "\"Nevada\": \"NV\",\n",
        "\"New Hampshire\": \"NH\",\n",
        "\"New Jersey\": \"NJ\",\n",
        "\"New Mexico\": \"NM\",\n",
        "\"New York\": \"NY\",\n",
        "\"North Carolina\": \"NC\",\n",
        "\"North Dakota\": \"ND\",\n",
        "\"Ohio\": \"OH\",\n",
        "\"Oklahoma\": \"OK\",\n",
        "\"Oregon\": \"OR\",\n",
        "\"Pennsylvania\": \"PA\",\n",
        "\"Rhode Island\": \"RI\",\n",
        "\"South Carolina\": \"SC\",\n",
        "\"South Dakota\": \"SD\",\n",
        "\"Tennessee\": \"TN\",\n",
        "\"Texas\": \"TX\",\n",
        "\"Utah\": \"UT\",\n",
        "\"Vermont\": \"VT\",\n",
        "\"Virginia\": \"VA\",\n",
        "\"Washington\": \"WA\",\n",
        "\"West Virginia\": \"WV\",\n",
        "\"Wisconsin\": \"WI\",\n",
        "\"Wyoming\": \"WY\",\n",
        "\"District of Columbia\": \"DC\",\n",
        "\"American Samoa\": \"AS\",\n",
        "\"Guam\": \"GU\",\n",
        "\"Northern Mariana Islands\": \"MP\",\n",
        "\"Puerto Rico\": \"PR\",\n",
        "\"United States Minor Outlying Islands\": \"UM\",\n",
        "\"U.S. Virgin Islands\": \"VI\",\n",
        "}"
      ],
      "metadata": {
        "id": "xANyJontIo3m"
      },
      "execution_count": 7,
      "outputs": []
    },
    {
      "cell_type": "markdown",
      "source": [
        "# **Fetch irradiance and temperature for given citites**"
      ],
      "metadata": {
        "id": "2l484WP7tkAi"
      }
    },
    {
      "cell_type": "code",
      "source": [
        "# Fetch the lat-lon file into a dataframe\n",
        "dfll = pd.read_excel('/content/drive/My Drive/ColabNotebooks/inputFolder/lat-lon.xlsx')\n",
        "\n",
        "# Add two new columns \"City Name\" and \"State Code/Country Name\"\n",
        "dfll[\"City Name\"] = pd.NaT\n",
        "dfll[\"State Code/Country Name\"] = pd.NaT\n",
        "\n",
        "# Use geolocator to fetch city and state code (for US cities)/ country name using latitude and longitude and populate dfll dataframe\n",
        "geolocator = Nominatim(user_agent='myapplication')\n",
        "for index, row in dfll.iterrows():\n",
        "  address = geolocator.reverse(str(row[0])+\",\"+str(row[1])).raw['address']\n",
        "  dfll.loc[index,\"City Name\"]=address.get('city', '')\n",
        "  if address.get('country', '')== \"United States\":\n",
        "    dfll.loc[index,\"State Code/Country Name\"]= us_state_to_abbrev.get(address.get('state', ''))\n",
        "  else:\n",
        "    dfll.loc[index,\"State Code/Country Name\"]= address.get('country', '')\n",
        "\n",
        "#Drop NaT values and update the lat-lon file\n",
        "dfll = dfll.dropna()"
      ],
      "metadata": {
        "id": "ttQeY6qnhEb5"
      },
      "execution_count": 9,
      "outputs": []
    },
    {
      "cell_type": "code",
      "source": [
        "#fetch the city-name file into a dataframe\n",
        "dfcity = pd.read_excel('/content/drive/My Drive/ColabNotebooks/inputFolder/city-name.xlsx')\n",
        "\n",
        "#Add two new columns \"Latitude\" and \"Longitude\"\n",
        "dfcity[\"Latitude\"] = pd.NaT\n",
        "dfcity[\"Longitude\"] = pd.NaT\n",
        "\n",
        "# Use geolocator to latitude and longitude using city and state code (for US cities)/ country name and populate dfcity dataframe\n",
        "geolocator = Nominatim(user_agent='myapplication')\n",
        "for index, row in dfcity.iterrows():\n",
        "  location = geolocator.geocode(row[0]+\",\"+row[1],timeout=1000)\n",
        "  if not location == None:\n",
        "    dfcity.loc[index,\"Latitude\"]=location.latitude\n",
        "    dfcity.loc[index,\"Longitude\"]=location.longitude\n",
        "\n",
        "#Drop NaT values and update the lat-lon file\n",
        "dfcity=dfcity.dropna()"
      ],
      "metadata": {
        "id": "3juVZO2KhEYR"
      },
      "execution_count": 11,
      "outputs": []
    },
    {
      "cell_type": "code",
      "source": [
        "#Concatenate lat-lon and city-name dataframes without duplicates\n",
        "df_irradiance_temp = pd.concat([dfcity,dfll], axis = 0).drop_duplicates().reset_index(drop=True)"
      ],
      "metadata": {
        "id": "ruE9lVHJhEUz"
      },
      "execution_count": 12,
      "outputs": []
    },
    {
      "cell_type": "code",
      "source": [
        "#Add four new columns \"Irradiance\", \"Avg temp\", \"Max temp\", and \"Min temp\"\n",
        "df_irradiance_temp[\"Irradiance\"] = pd.NaT\n",
        "df_irradiance_temp[\"Avg temp\"]= pd.NaT\n",
        "df_irradiance_temp[\"Max temp\"]= pd.NaT\n",
        "df_irradiance_temp[\"Min temp\"]= pd.NaT\n",
        "for index,row in df_irradiance_temp.iterrows():\n",
        "  #Get irradiance and temperature for all the latitude and longitude values in the dataframe\n",
        "  json_data = json.loads(requests.get('https://power.larc.nasa.gov/api/temporal/monthly/point?start=2016&end=2020&latitude='+str(row[2])+'&longitude='+str(row[3])+'&community=re&parameters=ALLSKY_SFC_SW_DWN%2CT2M%2CT2M_MAX%2CT2M_MIN&format=json&header=true').text)\n",
        "  irradiance = json_data['properties']['parameter']['ALLSKY_SFC_SW_DWN']\n",
        "  AvgTemp = json_data['properties']['parameter']['T2M']\n",
        "  maxTemp = json_data['properties']['parameter']['T2M_MAX']\n",
        "  minTemp = json_data['properties']['parameter']['T2M_MIN']\n",
        "  df_irradiance_temp.loc[index,\"Irradiance\"] = (irradiance['201613']+irradiance['201713']+irradiance['201813']+irradiance['201913']+irradiance['202013'])/5\n",
        "  df_irradiance_temp.loc[index,\"Avg temp\"] = (AvgTemp['201613']+AvgTemp['201713']+AvgTemp['201813']+AvgTemp['201913']+AvgTemp['202013'])/5\n",
        "  df_irradiance_temp.loc[index,\"Max temp\"] = (maxTemp['201613']+maxTemp['201713']+maxTemp['201813']+maxTemp['201913']+maxTemp['202013'])/5\n",
        "  df_irradiance_temp.loc[index,\"Min temp\"] = (minTemp['201613']+minTemp['201713']+minTemp['201813']+minTemp['201913']+minTemp['202013'])/5"
      ],
      "metadata": {
        "id": "36lHABiuhENo"
      },
      "execution_count": 13,
      "outputs": []
    },
    {
      "cell_type": "code",
      "source": [
        "#Creating a new irradiance-temp.xlsx in the output folder\n",
        "df_irradiance_temp.to_excel('/content/drive/My Drive/ColabNotebooks/outputFolder/irradiance-temp.xlsx',index=False)"
      ],
      "metadata": {
        "id": "xbWAilqGhEHx"
      },
      "execution_count": 15,
      "outputs": []
    },
    {
      "cell_type": "markdown",
      "source": [
        "# **Fetch Average NO2 for given cities**"
      ],
      "metadata": {
        "id": "FrJiUm2at2bo"
      }
    },
    {
      "cell_type": "code",
      "source": [
        "# Get the contents of NASA Timeseries files through URL\n",
        "!wget https://so2.gsfc.nasa.gov/no2/pix/time_series/OMNO2_Timeseries_AllCities.csv -q\n",
        "data=pd.read_csv('OMNO2_Timeseries_AllCities.csv',index_col=False, on_bad_lines='skip',skiprows=7)\n",
        "df_average_NO2 = pd.DataFrame(data)"
      ],
      "metadata": {
        "id": "F3npUH36sPcf"
      },
      "execution_count": 17,
      "outputs": []
    },
    {
      "cell_type": "code",
      "source": [
        "sum_med = df_average_NO2.groupby('City')['Median'].mean()\n",
        "\n",
        "with open('OMNO2_Timeseries_AllCities.csv','r') as f_in:\n",
        "    f = csv.reader(f_in)\n",
        "    rows=df_average_NO2.groupby(['City','Country','LonCenter','LatCenter']).agg({'Median': ['mean']})\n",
        "    rows.columns = ['Average NO2']\n",
        "    rows = rows.reset_index()\n",
        "\n",
        "for index, row in rows.iterrows():\n",
        "  #Get latitude and longitude using city and state code (for US cities)/ country name \n",
        "  location = geolocator.geocode(row[0]+\",\"+row[1],timeout=1000)\n",
        "  if not location == None:\n",
        "    rows.loc[index,\"LatCenter\"]=location.latitude\n",
        "    rows.loc[index,\"LonCenter\"]=location.longitude\n",
        "\n",
        "nasa_cities = rows.rename(columns={'City': 'City Name','LonCenter':'Longitude','LatCenter':'Latitude'})"
      ],
      "metadata": {
        "colab": {
          "base_uri": "https://localhost:8080/"
        },
        "id": "xNDR2fgZhEDN",
        "outputId": "bd6e2a96-675c-4e4e-be7a-1e7be506daf5"
      },
      "execution_count": 18,
      "outputs": [
        {
          "output_type": "stream",
          "name": "stdout",
          "text": [
            "City\n",
            "Aberdeen     -0.214377\n",
            "Abidjan      -0.276345\n",
            "AbuDhabi      2.567037\n",
            "Abuja         1.008219\n",
            "Accra        -1.260332\n",
            "               ...    \n",
            "Yangoon     -13.507840\n",
            "Yaounde      -0.735572\n",
            "Yerevan       1.204523\n",
            "Zhengzhou     6.623809\n",
            "Zurich        1.627309\n",
            "Name: Median, Length: 316, dtype: float64\n"
          ]
        }
      ]
    },
    {
      "cell_type": "code",
      "source": [
        "nasa_cities = nasa_cities.apply(pd.to_numeric, errors='ignore')\n",
        "df_irradiance_temp = df_irradiance_temp.apply(pd.to_numeric, errors='ignore')\n",
        "df_irradiance_temp_NO2 = df_irradiance_temp\n",
        "#NO2data = pd.merge(customer_cities,nasa_cities , on=['Longitude','Latitude'])\n",
        "df_irradiance_temp_NO2[\"Average NO2\"] = pd.NaT\n",
        "\n",
        "# Check the nearest city based on latitude and longitude values\n",
        "for index, row in df_irradiance_temp_NO2.iterrows():\n",
        "  min_distance=float('inf')\n",
        "  for nindex, nrow in nasa_cities.iterrows():\n",
        "    if(distance.distance((row['Latitude'],row['Longitude']), (nrow['Latitude'],nrow['Longitude'])).miles < min_distance):\n",
        "      min_distance = distance.distance((row['Latitude'],row['Longitude']), (nrow['Latitude'],nrow['Longitude'])).miles\n",
        "      min_index = nindex\n",
        "  df_irradiance_temp_NO2.loc[index,'Average NO2'] = nasa_cities['Average NO2'].values[min_index]"
      ],
      "metadata": {
        "id": "mzRhJgFqhD2-"
      },
      "execution_count": 19,
      "outputs": []
    },
    {
      "cell_type": "code",
      "source": [
        "#Creating a new Average NO2 data in the output folder\n",
        "df_irradiance_temp_NO2.to_excel('/content/drive/My Drive/ColabNotebooks/outputFolder/average_no2_data.xlsx',index=False)"
      ],
      "metadata": {
        "id": "ZJC3hBJwrVJm"
      },
      "execution_count": 20,
      "outputs": []
    },
    {
      "cell_type": "code",
      "source": [
        ""
      ],
      "metadata": {
        "id": "i8bcY3-EvZ0r"
      },
      "execution_count": null,
      "outputs": []
    }
  ]
}