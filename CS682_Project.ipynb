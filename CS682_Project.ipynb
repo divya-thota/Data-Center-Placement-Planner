{
  "nbformat": 4,
  "nbformat_minor": 0,
  "metadata": {
    "colab": {
      "name": "CS682 Project.ipynb",
      "provenance": [],
      "include_colab_link": true
    },
    "kernelspec": {
      "name": "python3",
      "display_name": "Python 3"
    },
    "language_info": {
      "name": "python"
    }
  },
  "cells": [
    {
      "cell_type": "markdown",
      "metadata": {
        "id": "view-in-github",
        "colab_type": "text"
      },
      "source": [
        "<a href=\"https://colab.research.google.com/github/divya2648/CS682/blob/main/CS682_Project.ipynb\" target=\"_parent\"><img src=\"https://colab.research.google.com/assets/colab-badge.svg\" alt=\"Open In Colab\"/></a>"
      ]
    },
    {
      "cell_type": "code",
      "execution_count": null,
      "metadata": {
        "id": "CIAXCOmxGSgb",
        "colab": {
          "base_uri": "https://localhost:8080/"
        },
        "outputId": "38e16ed0-92db-4060-e3f4-dd88fec0e163"
      },
      "outputs": [
        {
          "output_type": "stream",
          "name": "stdout",
          "text": [
            "Looking in indexes: https://pypi.org/simple, https://us-python.pkg.dev/colab-wheels/public/simple/\n",
            "Collecting pycountry\n",
            "  Downloading pycountry-22.3.5.tar.gz (10.1 MB)\n",
            "\u001b[K     |████████████████████████████████| 10.1 MB 17.4 MB/s \n",
            "\u001b[?25h  Installing build dependencies ... \u001b[?25l\u001b[?25hdone\n",
            "  Getting requirements to build wheel ... \u001b[?25l\u001b[?25hdone\n",
            "    Preparing wheel metadata ... \u001b[?25l\u001b[?25hdone\n",
            "Requirement already satisfied: setuptools in /usr/local/lib/python3.7/dist-packages (from pycountry) (57.4.0)\n",
            "Building wheels for collected packages: pycountry\n",
            "  Building wheel for pycountry (PEP 517) ... \u001b[?25l\u001b[?25hdone\n",
            "  Created wheel for pycountry: filename=pycountry-22.3.5-py2.py3-none-any.whl size=10681845 sha256=e8ad3ad67a68e12faa32db5952d6d11d3007bd6191b4f27132563168789513a2\n",
            "  Stored in directory: /root/.cache/pip/wheels/0e/06/e8/7ee176e95ea9a8a8c3b3afcb1869f20adbd42413d4611c6eb4\n",
            "Successfully built pycountry\n",
            "Installing collected packages: pycountry\n",
            "Successfully installed pycountry-22.3.5\n"
          ]
        }
      ],
      "source": [
        "!pip install pycountry"
      ]
    },
    {
      "cell_type": "code",
      "source": [
        "import pandas as pd\n",
        "import requests\n",
        "import json\n",
        "import csv\n",
        "from geopy import distance\n",
        "from geopy.geocoders import Nominatim\n",
        "from google.colab import drive\n",
        "#Authorize access to google drive\n",
        "drive.mount('/content/drive', force_remount=True)\n",
        "\n",
        "import plotly.express as px\n",
        "import plotly.graph_objects as go\n",
        "\n",
        "from scipy.cluster.hierarchy import dendrogram, linkage, fcluster\n",
        "from scipy.cluster.vq import kmeans2\n",
        "import matplotlib.pyplot as plt"
      ],
      "metadata": {
        "colab": {
          "base_uri": "https://localhost:8080/"
        },
        "id": "3_il77IKcRYB",
        "outputId": "c9cff9e5-3d34-4979-d33c-61a0ab16af2a"
      },
      "execution_count": null,
      "outputs": [
        {
          "output_type": "stream",
          "name": "stdout",
          "text": [
            "Mounted at /content/drive\n"
          ]
        }
      ]
    },
    {
      "cell_type": "code",
      "source": [
        "#Dictionary to map US states to State Codes\n",
        "us_state_to_abbrev = {\n",
        "\"Alabama\": \"AL\",\n",
        "\"Alaska\": \"AK\",\n",
        "\"Arizona\": \"AZ\",\n",
        "\"Arkansas\": \"AR\",\n",
        "\"California\": \"CA\",\n",
        "\"Colorado\": \"CO\",\n",
        "\"Connecticut\": \"CT\",\n",
        "\"Delaware\": \"DE\",\n",
        "\"Florida\": \"FL\",\n",
        "\"Georgia\": \"GA\",\n",
        "\"Hawaii\": \"HI\",\n",
        "\"Idaho\": \"ID\",\n",
        "\"Illinois\": \"IL\",\n",
        "\"Indiana\": \"IN\",\n",
        "\"Iowa\": \"IA\",\n",
        "\"Kansas\": \"KS\",\n",
        "\"Kentucky\": \"KY\",\n",
        "\"Louisiana\": \"LA\",\n",
        "\"Maine\": \"ME\",\n",
        "\"Maryland\": \"MD\",\n",
        "\"Massachusetts\": \"MA\",\n",
        "\"Michigan\": \"MI\",\n",
        "\"Minnesota\": \"MN\",\n",
        "\"Mississippi\": \"MS\",\n",
        "\"Missouri\": \"MO\",\n",
        "\"Montana\": \"MT\",\n",
        "\"Nebraska\": \"NE\",\n",
        "\"Nevada\": \"NV\",\n",
        "\"New Hampshire\": \"NH\",\n",
        "\"New Jersey\": \"NJ\",\n",
        "\"New Mexico\": \"NM\",\n",
        "\"New York\": \"NY\",\n",
        "\"North Carolina\": \"NC\",\n",
        "\"North Dakota\": \"ND\",\n",
        "\"Ohio\": \"OH\",\n",
        "\"Oklahoma\": \"OK\",\n",
        "\"Oregon\": \"OR\",\n",
        "\"Pennsylvania\": \"PA\",\n",
        "\"Rhode Island\": \"RI\",\n",
        "\"South Carolina\": \"SC\",\n",
        "\"South Dakota\": \"SD\",\n",
        "\"Tennessee\": \"TN\",\n",
        "\"Texas\": \"TX\",\n",
        "\"Utah\": \"UT\",\n",
        "\"Vermont\": \"VT\",\n",
        "\"Virginia\": \"VA\",\n",
        "\"Washington\": \"WA\",\n",
        "\"West Virginia\": \"WV\",\n",
        "\"Wisconsin\": \"WI\",\n",
        "\"Wyoming\": \"WY\",\n",
        "\"District of Columbia\": \"DC\",\n",
        "\"American Samoa\": \"AS\",\n",
        "\"Guam\": \"GU\",\n",
        "\"Northern Mariana Islands\": \"MP\",\n",
        "\"Puerto Rico\": \"PR\",\n",
        "\"United States Minor Outlying Islands\": \"UM\",\n",
        "\"U.S. Virgin Islands\": \"VI\",\n",
        "}"
      ],
      "metadata": {
        "id": "xANyJontIo3m"
      },
      "execution_count": null,
      "outputs": []
    },
    {
      "cell_type": "markdown",
      "source": [
        "# **Fetch irradiance and temperature for given citites**"
      ],
      "metadata": {
        "id": "2l484WP7tkAi"
      }
    },
    {
      "cell_type": "code",
      "source": [
        "# Fetch the lat-lon file into a dataframe\n",
        "dfll = pd.read_excel('/content/drive/My Drive/ColabNotebooks/inputFolder/lat-lon.xlsx')\n",
        "\n",
        "# Add two new columns \"City Name\" and \"State Code/Country Name\"\n",
        "dfll[\"City Name\"] = pd.NaT\n",
        "dfll[\"State Code/Country Name\"] = pd.NaT\n",
        "\n",
        "# Use geolocator to fetch city and state code (for US cities)/ country name using latitude and longitude and populate dfll dataframe\n",
        "geolocator = Nominatim(user_agent='myapplication')\n",
        "for index, row in dfll.iterrows():\n",
        "  address = geolocator.reverse(str(row[0])+\",\"+str(row[1])).raw['address']\n",
        "  dfll.loc[index,\"City Name\"]=address.get('city', '')\n",
        "  if address.get('country', '')== \"United States\":\n",
        "    dfll.loc[index,\"State Code/Country Name\"]= us_state_to_abbrev.get(address.get('state', ''))\n",
        "  else:\n",
        "    dfll.loc[index,\"State Code/Country Name\"]= address.get('country', '')\n",
        "\n",
        "#Drop NaT values and update the lat-lon file\n",
        "dfll = dfll.dropna()"
      ],
      "metadata": {
        "id": "ttQeY6qnhEb5"
      },
      "execution_count": null,
      "outputs": []
    },
    {
      "cell_type": "code",
      "source": [
        "#fetch the city-name file into a dataframe\n",
        "dfcity = pd.read_excel('/content/drive/My Drive/ColabNotebooks/inputFolder/city-name.xlsx')\n",
        "\n",
        "#Add two new columns \"Latitude\" and \"Longitude\"\n",
        "dfcity[\"Latitude\"] = pd.NaT\n",
        "dfcity[\"Longitude\"] = pd.NaT\n",
        "\n",
        "# Use geolocator to latitude and longitude using city and state code (for US cities)/ country name and populate dfcity dataframe\n",
        "geolocator = Nominatim(user_agent='myapplication')\n",
        "for index, row in dfcity.iterrows():\n",
        "  location = geolocator.geocode(row[0]+\",\"+row[1],timeout=1000)\n",
        "  if not location == None:\n",
        "    dfcity.loc[index,\"Latitude\"]=location.latitude\n",
        "    dfcity.loc[index,\"Longitude\"]=location.longitude\n",
        "\n",
        "#Drop NaT values and update the lat-lon file\n",
        "dfcity=dfcity.dropna()"
      ],
      "metadata": {
        "id": "3juVZO2KhEYR"
      },
      "execution_count": null,
      "outputs": []
    },
    {
      "cell_type": "code",
      "source": [
        "#Concatenate lat-lon and city-name dataframes without duplicates\n",
        "df_irradiance_temp = pd.concat([dfcity,dfll], axis = 0).drop_duplicates().reset_index(drop=True)"
      ],
      "metadata": {
        "id": "ruE9lVHJhEUz"
      },
      "execution_count": null,
      "outputs": []
    },
    {
      "cell_type": "code",
      "source": [
        "#Add four new columns \"Irradiance\", \"Avg temp\", \"Max temp\", and \"Min temp\"\n",
        "df_irradiance_temp[\"Irradiance\"] = pd.NaT\n",
        "df_irradiance_temp[\"Avg temp\"]= pd.NaT\n",
        "df_irradiance_temp[\"Max temp\"]= pd.NaT\n",
        "df_irradiance_temp[\"Min temp\"]= pd.NaT\n",
        "for index,row in df_irradiance_temp.iterrows():\n",
        "  #Get irradiance and temperature for all the latitude and longitude values in the dataframe\n",
        "  json_data = json.loads(requests.get('https://power.larc.nasa.gov/api/temporal/monthly/point?start=2016&end=2020&latitude='+str(row[2])+'&longitude='+str(row[3])+'&community=re&parameters=ALLSKY_SFC_SW_DWN%2CT2M%2CT2M_MAX%2CT2M_MIN&format=json&header=true').text)\n",
        "  irradiance = json_data['properties']['parameter']['ALLSKY_SFC_SW_DWN']\n",
        "  AvgTemp = json_data['properties']['parameter']['T2M']\n",
        "  maxTemp = json_data['properties']['parameter']['T2M_MAX']\n",
        "  minTemp = json_data['properties']['parameter']['T2M_MIN']\n",
        "  df_irradiance_temp.loc[index,\"Irradiance\"] = (irradiance['201613']+irradiance['201713']+irradiance['201813']+irradiance['201913']+irradiance['202013'])/5\n",
        "  df_irradiance_temp.loc[index,\"Avg temp\"] = (AvgTemp['201613']+AvgTemp['201713']+AvgTemp['201813']+AvgTemp['201913']+AvgTemp['202013'])/5\n",
        "  df_irradiance_temp.loc[index,\"Max temp\"] = (maxTemp['201613']+maxTemp['201713']+maxTemp['201813']+maxTemp['201913']+maxTemp['202013'])/5\n",
        "  df_irradiance_temp.loc[index,\"Min temp\"] = (minTemp['201613']+minTemp['201713']+minTemp['201813']+minTemp['201913']+minTemp['202013'])/5"
      ],
      "metadata": {
        "id": "36lHABiuhENo"
      },
      "execution_count": null,
      "outputs": []
    },
    {
      "cell_type": "code",
      "source": [
        "#Creating a new irradiance-temp.xlsx in the output folder\n",
        "df_irradiance_temp.to_excel('/content/drive/My Drive/ColabNotebooks/outputFolder/irradiance-temp.xlsx',index=False)"
      ],
      "metadata": {
        "id": "xbWAilqGhEHx"
      },
      "execution_count": null,
      "outputs": []
    },
    {
      "cell_type": "markdown",
      "source": [
        "# **Fetch Average NO2 for given cities**"
      ],
      "metadata": {
        "id": "FrJiUm2at2bo"
      }
    },
    {
      "cell_type": "code",
      "source": [
        "# Get the contents of NASA Timeseries files through URL\n",
        "!wget https://so2.gsfc.nasa.gov/no2/pix/time_series/OMNO2_Timeseries_AllCities.csv -q\n",
        "data=pd.read_csv('OMNO2_Timeseries_AllCities.csv',index_col=False, on_bad_lines='skip',skiprows=7)\n",
        "df_average_NO2 = pd.DataFrame(data)"
      ],
      "metadata": {
        "id": "F3npUH36sPcf"
      },
      "execution_count": null,
      "outputs": []
    },
    {
      "cell_type": "code",
      "source": [
        "sum_med = df_average_NO2.groupby('City')['Median'].mean()\n",
        "\n",
        "with open('OMNO2_Timeseries_AllCities.csv','r') as f_in:\n",
        "    f = csv.reader(f_in)\n",
        "    rows=df_average_NO2.groupby(['City','Country','LonCenter','LatCenter']).agg({'Median': ['mean']})\n",
        "    rows.columns = ['Average NO2']\n",
        "    rows = rows.reset_index()\n",
        "\n",
        "for index, row in rows.iterrows():\n",
        "  #Get latitude and longitude using city and state code (for US cities)/ country name \n",
        "  location = geolocator.geocode(row[0]+\",\"+row[1],timeout=1000)\n",
        "  if not location == None:\n",
        "    rows.loc[index,\"LatCenter\"]=location.latitude\n",
        "    rows.loc[index,\"LonCenter\"]=location.longitude\n",
        "\n",
        "nasa_cities = rows.rename(columns={'City': 'City Name','LonCenter':'Longitude','LatCenter':'Latitude'})"
      ],
      "metadata": {
        "colab": {
          "base_uri": "https://localhost:8080/"
        },
        "id": "xNDR2fgZhEDN",
        "outputId": "bd6e2a96-675c-4e4e-be7a-1e7be506daf5"
      },
      "execution_count": null,
      "outputs": [
        {
          "output_type": "stream",
          "name": "stdout",
          "text": [
            "City\n",
            "Aberdeen     -0.214377\n",
            "Abidjan      -0.276345\n",
            "AbuDhabi      2.567037\n",
            "Abuja         1.008219\n",
            "Accra        -1.260332\n",
            "               ...    \n",
            "Yangoon     -13.507840\n",
            "Yaounde      -0.735572\n",
            "Yerevan       1.204523\n",
            "Zhengzhou     6.623809\n",
            "Zurich        1.627309\n",
            "Name: Median, Length: 316, dtype: float64\n"
          ]
        }
      ]
    },
    {
      "cell_type": "code",
      "source": [
        "nasa_cities = nasa_cities.apply(pd.to_numeric, errors='ignore')\n",
        "df_irradiance_temp = df_irradiance_temp.apply(pd.to_numeric, errors='ignore')\n",
        "df_irradiance_temp_NO2 = df_irradiance_temp\n",
        "#NO2data = pd.merge(customer_cities,nasa_cities , on=['Longitude','Latitude'])\n",
        "df_irradiance_temp_NO2[\"Average NO2\"] = pd.NaT\n",
        "\n",
        "# Check the nearest city based on latitude and longitude values\n",
        "for index, row in df_irradiance_temp_NO2.iterrows():\n",
        "  min_distance=float('inf')\n",
        "  for nindex, nrow in nasa_cities.iterrows():\n",
        "    if(distance.distance((row['Latitude'],row['Longitude']), (nrow['Latitude'],nrow['Longitude'])).miles < min_distance):\n",
        "      min_distance = distance.distance((row['Latitude'],row['Longitude']), (nrow['Latitude'],nrow['Longitude'])).miles\n",
        "      min_index = nindex\n",
        "  df_irradiance_temp_NO2.loc[index,'Average NO2'] = nasa_cities['Average NO2'].values[min_index]"
      ],
      "metadata": {
        "id": "mzRhJgFqhD2-"
      },
      "execution_count": null,
      "outputs": []
    },
    {
      "cell_type": "code",
      "source": [
        "#Creating a new Average NO2 data in the output folder\n",
        "df_irradiance_temp_NO2.to_excel('/content/drive/My Drive/ColabNotebooks/outputFolder/average_no2_data.xlsx',index=False)"
      ],
      "metadata": {
        "id": "ZJC3hBJwrVJm"
      },
      "execution_count": null,
      "outputs": []
    },
    {
      "cell_type": "markdown",
      "source": [
        "# **Bubble maps of Irradiance data:**"
      ],
      "metadata": {
        "id": "HWA0CHu1Vz_4"
      }
    },
    {
      "cell_type": "code",
      "source": [
        "df1 = df_irradiance_temp_NO2\n",
        "\n",
        "#Convert the \"object\" type columns to numeric to facilitate plotting\n",
        "df1 = df1.apply(pd.to_numeric, errors='ignore')\n",
        "\n",
        "#Data to be visible on hover\n",
        "df1['text'] = 'City Name: '+df1[\"City Name\"]+ \\\n",
        "              '<br>State Code/Country Name: '+df1[\"State Code/Country Name\"]+ \\\n",
        "              '<br>Irradiance: '+df1[\"Irradiance\"].astype(str)+ \\\n",
        "              '<br>Avg temp: '+df1[\"Avg temp\"].astype(str)+ \\\n",
        "              '<br>Max temp: '+df1[\"Max temp\"].astype(str)+ \\\n",
        "              '<br>Min temp: '+df1[\"Min temp\"].astype(str)+ \\\n",
        "              '<br>Average NO2: '+df1[\"Average NO2\"].astype(str)\n",
        "names = [\"0%-10%\",\"10%-20%\",\"20%+\"]"
      ],
      "metadata": {
        "id": "i8bcY3-EvZ0r"
      },
      "execution_count": null,
      "outputs": []
    },
    {
      "cell_type": "code",
      "source": [
        "#Bubble map of the world against Irradiance data:\n",
        "\n",
        "# Sort values on Irradiance to obtain the top 10%, 10%-20% and 20%+\n",
        "df1 = df1.sort_values(['Irradiance'], ascending=[0],ignore_index=True)\n",
        "for index,row in df1.iterrows():\n",
        "  if index+1 <= int(len(df1.index)*10/100):\n",
        "    df1.loc[index,'colors'] = \"10%\"\n",
        "  elif index+1 <= int(len(df1.index)*10/100)+int(len(df1.index)*20/100):\n",
        "    df1.loc[index,'colors'] = \"10-20%\"\n",
        "  else:\n",
        "    df1.loc[index,'colors'] = \"20%+\"\n",
        "  \n",
        "# Plot the bubblemap of the natural earth with Irradiance data\n",
        "fig = px.scatter_geo(df1, lat=df1.Latitude,\n",
        "                     lon=df1.Longitude,\n",
        "                     color_discrete_sequence=[ \"red\", \"orange\", \"green\"],\n",
        "                     color = df1['colors'],\n",
        "                     hover_data=[\"City Name\", \"State Code/Country Name\", \"Latitude\", \"Longitude\", \"Irradiance\",\"Avg temp\",\"Max temp\",\"Min temp\",\"Average NO2\"], \n",
        "                     size=df1['Irradiance'],\n",
        "                     projection=\"natural earth\")\n",
        "fig.show()"
      ],
      "metadata": {
        "id": "4svacbR7WE9S"
      },
      "execution_count": null,
      "outputs": []
    },
    {
      "cell_type": "code",
      "source": [
        "# Bubble map of the USA against Irradiance data:\n",
        "\n",
        "# Set values for the sorted Irradiance to obtain the top 10%, 10%-20% and 20%+ and colorcode accordingly\n",
        "limits = [(0,int(len(df1.index)*10/100)),(int(len(df1.index)*10/100),int(len(df1.index)*10/100)+int(len(df1.index)*20/100)),(int(len(df1.index)*10/100)+int(len(df1.index)*20/100),int(len(df1.index)))]\n",
        "colors = [\"red\",\"orange\",\"green\"]\n",
        "\n",
        "#Add trace values to figure accordingly\n",
        "fig = go.Figure()\n",
        "for i in range(len(limits)):\n",
        "    lim = limits[i]\n",
        "    df_sub = df1[lim[0]:lim[1]]\n",
        "    fig.add_trace(go.Scattergeo(locationmode = 'USA-states', lon = df_sub['Longitude'], lat = df_sub['Latitude'], text= df_sub['text'],\n",
        "        marker = dict( size = df_sub['Irradiance']*4, color = colors[i], sizemode = 'diameter' ),\n",
        "        name = names[i]))\n",
        "\n",
        "# Plot the bubblemap of the USA with Irradiance data\n",
        "fig.update_layout(\n",
        "        title_text = '2016 to 2020 US Irradiance<br>(Click legend to toggle traces)',\n",
        "        showlegend = True,\n",
        "        geo = dict(scope = 'usa', landcolor = 'rgb(217, 217, 217)')\n",
        "    )\n",
        "fig.show()"
      ],
      "metadata": {
        "id": "DYLmLDRlWJoG"
      },
      "execution_count": null,
      "outputs": []
    },
    {
      "cell_type": "markdown",
      "source": [
        "# **Bubble maps of Average Temperature data:**"
      ],
      "metadata": {
        "id": "KoMyjAstWRiN"
      }
    },
    {
      "cell_type": "code",
      "source": [
        "#Bubble map of the world against Avg Temp data:\n",
        "\n",
        "# Sort values on Avg temp to obtain the top 10%, 10%-20% and 20%+\n",
        "df1 = df1.sort_values(['Avg temp'],ignore_index=True)\n",
        "for index,row in df1.iterrows():\n",
        "  if index+1 <= int(len(df1.index)*10/100):\n",
        "    df1.loc[index,'colors'] = \"10%\"\n",
        "  elif index+1 <= int(len(df1.index)*10/100)+int(len(df1.index)*20/100):\n",
        "    df1.loc[index,'colors'] = \"10-20%\"\n",
        "  else:\n",
        "    df1.loc[index,'colors'] = \"20%+\"\n",
        "df1['Absolute Avg temp'] = abs(df1['Avg temp'])\n",
        "df1['Absolute Avg temp'] = max(df1['Absolute Avg temp'])+1 - df1['Absolute Avg temp']\n",
        "\n",
        "# Plot the bubblemap of the natural earth with Avg temp data\n",
        "fig = px.scatter_geo(df1, lat=df1.Latitude,\n",
        "                     lon=df1.Longitude,\n",
        "                     color_discrete_sequence=[ \"teal\", \"steelblue\", \"lightblue\"],\n",
        "                     color = df1['colors'],\n",
        "                     hover_data=[\"City Name\", \"State Code/Country Name\", \"Latitude\", \"Longitude\", \"Irradiance\",\"Avg temp\",\"Max temp\",\"Min temp\",\"Average NO2\"], \n",
        "                     size=df1['Absolute Avg temp'],\n",
        "                     projection=\"natural earth\")\n",
        "fig.show()"
      ],
      "metadata": {
        "id": "H7wU2i-MWOIP"
      },
      "execution_count": null,
      "outputs": []
    },
    {
      "cell_type": "code",
      "source": [
        "# Bubble map of the USA against Avg temp data:\n",
        "\n",
        "# Set values for the sorted Avg temp to obtain the top 10%, 10%-20% and 20%+ and colorcode accordingly\n",
        "limits = [(0,int(len(df1.index)*10/100)),(int(len(df1.index)*10/100),int(len(df1.index)*10/100)+int(len(df1.index)*20/100)),(int(len(df1.index)*10/100)+int(len(df1.index)*20/100),int(len(df1.index)))]\n",
        "colors = [\"teal\", \"steelblue\", \"lightblue\"]\n",
        "\n",
        "#Add trace values to figure accordingly\n",
        "fig = go.Figure()\n",
        "for i in range(len(limits)):\n",
        "    lim = limits[i]\n",
        "    df_sub = df1[lim[0]:lim[1]]\n",
        "    fig.add_trace(go.Scattergeo(locationmode = 'USA-states', lon = df_sub['Longitude'], lat = df_sub['Latitude'], text= df_sub['text'],\n",
        "        marker = dict( size = df_sub['Absolute Avg temp'], color = colors[i], sizemode = 'diameter' ),\n",
        "        name = names[i]))\n",
        "\n",
        "# Plot the bubblemap of the USA with Avg temp data\n",
        "fig.update_layout(\n",
        "        title_text = '2016 to 2020 US Average temperature<br>(Click legend to toggle traces)',\n",
        "        showlegend = True,\n",
        "        geo = dict(scope = 'usa', landcolor = 'rgb(217, 217, 217)')\n",
        "    )\n",
        "fig.show()"
      ],
      "metadata": {
        "id": "Zuz99-KdWYZC"
      },
      "execution_count": null,
      "outputs": []
    },
    {
      "cell_type": "markdown",
      "source": [
        "# **Bubble maps of Average NO2 data:**"
      ],
      "metadata": {
        "id": "NI9rY28nWfuM"
      }
    },
    {
      "cell_type": "code",
      "source": [
        "#Bubble map of the world against average NO2 data:\n",
        "\n",
        "# Sort values on Average NO2 to obtain the top 10%, 10%-20% and 20%+\n",
        "df1 = df1.sort_values(['Average NO2'],ascending=[0],ignore_index=True)\n",
        "for index,row in df1.iterrows():\n",
        "  if index+1 <= int(len(df1.index)*10/100):\n",
        "    df1.loc[index,'colors'] = \"10%\"\n",
        "  elif index+1 <= int(len(df1.index)*10/100)+int(len(df1.index)*20/100):\n",
        "    df1.loc[index,'colors'] = \"10-20%\"\n",
        "  else:\n",
        "    df1.loc[index,'colors'] = \"20%+\"\n",
        "\n",
        "\n",
        "# Make all values positive and scaleable\n",
        "df1['Absolute Average NO2'] = abs(df1['Average NO2'])\n",
        "df1['Absolute Average NO2'] = df1['Average NO2'] + max(df1['Absolute Average NO2'])+1\n",
        "\n",
        "\n",
        "# Plot the bubblemap of the natural earth with Average NO2 data\n",
        "fig = px.scatter_geo(df1, lat=df1.Latitude,\n",
        "                     lon=df1.Longitude,\n",
        "                     color_discrete_sequence=[ \"Brown\", \"BurlyWood\", \"Wheat\"],\n",
        "                     color = df1['colors'],\n",
        "                     hover_data=[\"City Name\", \"State Code/Country Name\", \"Latitude\", \"Longitude\", \"Irradiance\",\"Avg temp\",\"Max temp\",\"Min temp\",\"Average NO2\"],  \n",
        "                     size=df1['Absolute Average NO2'],\n",
        "                     projection=\"natural earth\")\n",
        "fig.show()"
      ],
      "metadata": {
        "id": "H2kaNnOJWcvJ"
      },
      "execution_count": null,
      "outputs": []
    },
    {
      "cell_type": "code",
      "source": [
        "# Bubble map of the USA against Average NO2 data:\n",
        "\n",
        "# Set values for the sorted Average NO2 to obtain the top 10%, 10%-20% and 20%+ and colorcode accordingly\n",
        "limits = [(0,int(len(df1.index)*10/100)),(int(len(df1.index)*10/100),int(len(df1.index)*10/100)+int(len(df1.index)*20/100)),(int(len(df1.index)*10/100)+int(len(df1.index)*20/100),int(len(df1.index)))]\n",
        "colors = [\"Brown\", \"BurlyWood\", \"Wheat\"]\n",
        "\n",
        "#Add trace values to figure accordingly\n",
        "fig = go.Figure()\n",
        "for i in range(len(limits)):\n",
        "    lim = limits[i]\n",
        "    df_sub = df1[lim[0]:lim[1]]\n",
        "    fig.add_trace(go.Scattergeo(locationmode = 'USA-states', lon = df_sub['Longitude'], lat = df_sub['Latitude'], text= df_sub['text'],\n",
        "        marker = dict( size = df_sub['Absolute Average NO2']/2, color = colors[i], sizemode = 'diameter' ),\n",
        "        name = names[i]))\n",
        "\n",
        "# Plot the bubblemap of the USA with Average NO2 data\n",
        "fig.update_layout(\n",
        "        title_text = '2016 to 2020 US Average NO2<br>(Click legend to toggle traces)',\n",
        "        showlegend = True,\n",
        "        geo = dict(scope = 'usa', landcolor = 'rgb(217, 217, 217)')\n",
        "    )\n",
        "fig.show()"
      ],
      "metadata": {
        "id": "2ISwaXehWkyI"
      },
      "execution_count": null,
      "outputs": []
    },
    {
      "cell_type": "markdown",
      "source": [
        "# **Bubble maps of Datacenter Hotspot Index (DHI):**"
      ],
      "metadata": {
        "id": "OQJpI86LWtKu"
      }
    },
    {
      "cell_type": "code",
      "source": [
        "# Add Normalized irradiance, Normalized avg temp, Normalized NO2, and DHI columns to the dataframe\n",
        "df1[\"Normalized irradiance\"] = pd.NaT\n",
        "df1[\"Normalized avg temp\"] = pd.NaT\n",
        "df1[\"Normalized NO2\"] = pd.NaT\n",
        "df1[\"DHI\"] = pd.NaT\n",
        "a=b=c=1.0\n",
        "\n",
        "#Calculate and assign the data in the newly added columns of the dataframe\n",
        "for index, row in df1.iterrows():\n",
        "  df1.loc[index,\"Normalized irradiance\"] = df1[\"Irradiance\"][index] / ( max(df1[\"Irradiance\"]) - min(df1[\"Irradiance\"]) )\n",
        "  df1.loc[index,\"Normalized avg temp\"] = 1-( (df1[\"Avg temp\"][index] - min(df1[\"Avg temp\"]) ) / ( max(df1[\"Avg temp\"]) - min(df1[\"Avg temp\"]) ))\n",
        "  df1.loc[index,\"Normalized NO2\"] = (df1[\"Average NO2\"][index] - min(df1[\"Average NO2\"]) )/ ( max(df1[\"Average NO2\"]) - min(df1[\"Average NO2\"]) )\n",
        "  df1.loc[index,\"DHI\"] = ( a * df1[\"Normalized irradiance\"][index] + b * df1[\"Normalized avg temp\"][index] + c * df1[\"Normalized NO2\"][index] ) / 3\n",
        "\n",
        "#Convert the \"object\" type columns to numeric to facilitate plotting\n",
        "df1 = df1.apply(pd.to_numeric, errors='ignore')\n",
        "\n",
        "#Data to be visible on hover\n",
        "df1['text'] = 'City Name: '+df1[\"City Name\"]+ \\\n",
        "              '<br>State Code/Country Name: '+df1[\"State Code/Country Name\"]+ \\\n",
        "              '<br>DHI: '+df1[\"DHI\"].astype(str)+ \\\n",
        "              '<br>Irradiance: '+df1[\"Irradiance\"].astype(str)+ \\\n",
        "              '<br>Avg temp: '+df1[\"Avg temp\"].astype(str)+ \\\n",
        "              '<br>Max temp: '+df1[\"Max temp\"].astype(str)+ \\\n",
        "              '<br>Min temp: '+df1[\"Min temp\"].astype(str)+ \\\n",
        "              '<br>Average NO2: '+df1[\"Average NO2\"].astype(str)"
      ],
      "metadata": {
        "id": "VbN6cJk5Wpl8"
      },
      "execution_count": null,
      "outputs": []
    },
    {
      "cell_type": "code",
      "source": [
        "#Bubble map of the world against DHI data:\n",
        "\n",
        "# Sort values on DHI to obtain the top 10%, 10%-20% and 20%+\n",
        "df1 = df1.sort_values(['DHI'], ascending=[0],ignore_index=True)\n",
        "for index,row in df1.iterrows():\n",
        "  if index+1 <= int(len(df1.index)*10/100):\n",
        "    df1.loc[index,'colors'] = \"10%\"\n",
        "  elif index+1 <= int(len(df1.index)*10/100)+int(len(df1.index)*20/100):\n",
        "    df1.loc[index,'colors'] = \"10-20%\"\n",
        "  else:\n",
        "    df1.loc[index,'colors'] = \"20%+\"\n",
        "\n",
        "# Plot the bubblemap of the natural earth with DHI data\n",
        "fig = px.scatter_geo(df1, lat=df1.Latitude,\n",
        "                     lon=df1.Longitude,\n",
        "                     color_discrete_sequence=[ \"darkgreen\", \"limegreen\", \"yellowgreen\"],\n",
        "                     color = df1['colors'],\n",
        "                     hover_data=[\"City Name\", \"State Code/Country Name\", \"Irradiance\",\"Avg temp\",\"Max temp\",\"Min temp\",\"Average NO2\"], \n",
        "                     size=df1['DHI'],\n",
        "                     projection=\"natural earth\")\n",
        "fig.show()"
      ],
      "metadata": {
        "id": "EhStRFeiWyyw"
      },
      "execution_count": null,
      "outputs": []
    },
    {
      "cell_type": "code",
      "source": [
        "# Bubble map of the USA against DHI data:\n",
        "              \n",
        "# Set values for the sorted DHI to obtain the top 10%, 10%-20% and 20%+ and colorcode accordingly\n",
        "limits = [(0,int(len(df1.index)*10/100)),(int(len(df1.index)*10/100),int(len(df1.index)*10/100)+int(len(df1.index)*20/100)),(int(len(df1.index)*10/100)+int(len(df1.index)*20/100),int(len(df1.index)))]\n",
        "colors = [\"darkgreen\", \"limegreen\", \"yellowgreen\"]\n",
        "\n",
        "#Add trace values to figure accordingly\n",
        "fig = go.Figure()\n",
        "for i in range(len(limits)):\n",
        "    lim = limits[i]\n",
        "    df_sub = df1[lim[0]:lim[1]]\n",
        "    fig.add_trace(go.Scattergeo(locationmode = 'USA-states', lon = df_sub['Longitude'], lat = df_sub['Latitude'], text= df_sub['text'],\n",
        "        marker = dict( size = df_sub['DHI']*30, color = colors[i], sizemode = 'diameter' ),\n",
        "        name = names[i]))\n",
        "\n",
        "# Plot the bubblemap of the USA with DHI data\n",
        "fig.update_layout(\n",
        "        title_text = '2016 to 2020 US Datacenter Hotspot Index<br>(Click legend to toggle traces)',\n",
        "        showlegend = True,\n",
        "        geo = dict(scope = 'usa', landcolor = 'rgb(217, 217, 217)')\n",
        "    )\n",
        "fig.show()"
      ],
      "metadata": {
        "id": "A19ZNkFUW17R"
      },
      "execution_count": null,
      "outputs": []
    },
    {
      "cell_type": "markdown",
      "source": [
        "# **Dendogram and Kmeans**"
      ],
      "metadata": {
        "id": "gIcT2AqhXxAi"
      }
    },
    {
      "cell_type": "code",
      "source": [
        "dfitn=df_irradiance_temp_NO2\n",
        "dfitn = dfitn.filter(items=['City Name','State Code/Country Name','Irradiance', 'Avg temp','Average NO2'])\n",
        "\n",
        "dfitn = dfitn.set_index(['City Name','State Code/Country Name'])\n",
        "dfitn = dfitn.apply(pd.to_numeric, errors='ignore')\n",
        "Ndf=(dfitn-dfitn.min())/(dfitn.max()-dfitn.min())\n",
        "Ndf=Ndf.reset_index()"
      ],
      "metadata": {
        "id": "4SyvBKFyXwJd"
      },
      "execution_count": null,
      "outputs": []
    },
    {
      "cell_type": "code",
      "source": [
        "Ndf = Ndf.set_index(['City Name','State Code/Country Name'])\n",
        "Z = linkage(Ndf, 'ward',metric='euclidean')\n",
        "plt.figure(figsize=(26,12))\n",
        "dendrogram(Z,\n",
        "           orientation='top',\n",
        "           distance_sort='descending',\n",
        "           show_leaf_counts=True,\n",
        "           labels = Ndf.index,\n",
        "           leaf_font_size=12)\n",
        "plt.show()"
      ],
      "metadata": {
        "id": "2ERIEx4BYDgW"
      },
      "execution_count": null,
      "outputs": []
    },
    {
      "cell_type": "code",
      "source": [
        "#Using fcluster add cluster count as 2 to make 2 groups for data\n",
        "clusterCount = 2\n",
        "clusters_agg = fcluster(Z, t=clusterCount, criterion='maxclust')\n",
        "# fluster method assigns cluster index to data categorizing into 2 values.\n",
        "Ndf[\"Cluster index\"] = clusters_agg\n",
        "# Changing the cluster index values to 0,1 from 1,2.\n",
        "Ndf.loc[Ndf[\"Cluster index\"] == 1, \"Cluster index\"] = 0\n",
        "Ndf.loc[Ndf[\"Cluster index\"] == 2, \"Cluster index\"] = 1\n",
        "\n",
        "Ndf=Ndf.reset_index()\n",
        "Ndf"
      ],
      "metadata": {
        "id": "h4HDpNMCYJHY"
      },
      "execution_count": null,
      "outputs": []
    },
    {
      "cell_type": "code",
      "source": [
        "#3d scatter plot showing the clusters in 3d space.\n",
        "scatter3dPlot = px.scatter_3d(Ndf, x='Irradiance', y='Avg temp', z='Average NO2',\n",
        "              color='Cluster index', hover_data=['City Name','State Code/Country Name',\"Irradiance\",\"Avg temp\",\"Average NO2\"])\n",
        "# to remove the legend since the values are supposed to be 0,1.\n",
        "scatter3dPlot.update(layout_coloraxis_showscale=False)\n",
        "scatter3dPlot.show()"
      ],
      "metadata": {
        "id": "F_fluOSRYKNS"
      },
      "execution_count": null,
      "outputs": []
    },
    {
      "cell_type": "code",
      "source": [
        "# 2d scatter matrix using plotly express\n",
        "ScatterPlot1 = px.scatter_matrix(Ndf,\n",
        "    dimensions=[\"Irradiance\", \"Avg temp\", \"Average NO2\"],\n",
        "    color=\"Cluster index\", hover_data=['City Name','State Code/Country Name',\"Irradiance\",\"Avg temp\",\"Average NO2\"])\n",
        "# removing the legend as color distinction shows the clusters.\n",
        "ScatterPlot1.update(layout_coloraxis_showscale=False)\n",
        "ScatterPlot1.show()"
      ],
      "metadata": {
        "id": "zpV3xgseYNHe"
      },
      "execution_count": null,
      "outputs": []
    },
    {
      "cell_type": "code",
      "source": [
        "# Pandas scatter matrix to show the cluster patters with 6 clusters.\n",
        "X = Ndf[['Irradiance','Avg temp','Average NO2']];\n",
        "y = Ndf['Cluster index'];\n",
        "# removing irregular y axis values and plotting the scatter matix\n",
        "axes=pd.plotting.scatter_matrix(X,c=y,range_padding=0,alpha=2, figsize=(16,12))\n",
        "axes[0,0].set_yticklabels([0,0.2,0.4,0.6,0.8,1])"
      ],
      "metadata": {
        "id": "aEc0uEfkYRXu"
      },
      "execution_count": null,
      "outputs": []
    },
    {
      "cell_type": "code",
      "source": [
        "# Considering 6 clusters and normalizing the data\n",
        "clusterCount = 6\n",
        "clusters_agg2 = fcluster(Z, t=clusterCount, criterion='maxclust')\n",
        "normalized_df2 = Ndf.copy()\n",
        "normalized_df2[\"Cluster index\"] = clusters_agg2\n",
        "Ndf.loc[Ndf[\"Cluster index\"] == 6, \"Cluster index\"] = 0"
      ],
      "metadata": {
        "id": "LlCqtfumYRUv"
      },
      "execution_count": null,
      "outputs": []
    },
    {
      "cell_type": "code",
      "source": [
        "#3d scatter plot showing the clusters in 3d space.\n",
        "scatter3dPlot = px.scatter_3d(normalized_df2, x='Irradiance', y='Avg temp', z='Average NO2',\n",
        "              color='Cluster index', hover_data=['City Name','State Code/Country Name',\"Irradiance\",\"Avg temp\",\"Average NO2\"])\n",
        "\n",
        "scatter3dPlot.update(layout_coloraxis_showscale=False)\n",
        "scatter3dPlot.show()"
      ],
      "metadata": {
        "id": "1zHp4gL8YRSA"
      },
      "execution_count": null,
      "outputs": []
    },
    {
      "cell_type": "code",
      "source": [
        "# Scatter plot showing 6 clusters\n",
        "ScatterPlot2 = px.scatter_matrix(normalized_df2,\n",
        "    dimensions=[\"Irradiance\", \"Avg temp\", \"Average NO2\"],\n",
        "    color=\"Cluster index\", hover_data=[\"Irradiance\",\"Avg temp\",\"Average NO2\",'City Name','State Code/Country Name'])\n",
        "ScatterPlot2.update(layout_coloraxis_showscale=False)\n",
        "ScatterPlot2.show()"
      ],
      "metadata": {
        "id": "PBMwfL97YRPR"
      },
      "execution_count": null,
      "outputs": []
    },
    {
      "cell_type": "code",
      "source": [
        "X = normalized_df2[['Irradiance','Avg temp','Average NO2']];\n",
        "y = normalized_df2['Cluster index'];\n",
        "axes2=pd.plotting.scatter_matrix(X,c=y, range_padding=0, alpha=2, figsize=(16,12))\n",
        "axes2[0,0].set_yticklabels([0,0.2,0.4,0.6,0.8,1])"
      ],
      "metadata": {
        "id": "tGIbKfLmYRMX"
      },
      "execution_count": null,
      "outputs": []
    },
    {
      "cell_type": "code",
      "source": [
        "k_count=2\n",
        "kmenas = normalized_df2.filter(items=['Irradiance','Avg temp','Average NO2'])\n",
        "kviz,label = kmeans2(kmenas, k_count, iter=10, minit='++', missing='warn', check_finite=True)"
      ],
      "metadata": {
        "id": "9kojRY8BYRJD"
      },
      "execution_count": null,
      "outputs": []
    },
    {
      "cell_type": "code",
      "source": [
        "normalized_df3 = Ndf.copy()\n",
        "normalized_df3[\"Cluster index\"] = label\n",
        "normalized_df3=normalized_df3.reset_index()\n",
        "normalized_df3"
      ],
      "metadata": {
        "id": "c229lZLEYhPn"
      },
      "execution_count": null,
      "outputs": []
    },
    {
      "cell_type": "code",
      "source": [
        "#3d scatter plot of data obtained from k-means analysis\n",
        "scatter3dPlot3 = px.scatter_3d(normalized_df3, x='Irradiance', y='Avg temp', z='Average NO2',\n",
        "              color='Cluster index', hover_data=['City Name','State Code/Country Name',\"Irradiance\",\"Avg temp\",\"Average NO2\"])\n",
        "# to remove the legend since the values are supposed to be 0,1.\n",
        "scatter3dPlot3.update(layout_coloraxis_showscale=False)\n",
        "scatter3dPlot3.show()"
      ],
      "metadata": {
        "id": "1vAnbjz4YhMc"
      },
      "execution_count": null,
      "outputs": []
    },
    {
      "cell_type": "code",
      "source": [
        "# 2d scatter matrix using plotly express for data obtained from kmeans analysis \n",
        "ScatterPlot3 = px.scatter_matrix(normalized_df3,\n",
        "    dimensions=[\"Irradiance\", \"Avg temp\", \"Average NO2\"],\n",
        "    color=\"Cluster index\", hover_data=['City Name','State Code/Country Name',\"Irradiance\",\"Avg temp\",\"Average NO2\"])\n",
        "# removing the legend as color distinction shows the clusters.\n",
        "ScatterPlot3.update(layout_coloraxis_showscale=False)\n",
        "ScatterPlot3.show()"
      ],
      "metadata": {
        "id": "jztYN6b9YhJr"
      },
      "execution_count": null,
      "outputs": []
    },
    {
      "cell_type": "code",
      "source": [
        "# Pandas scatter matrix to show the cluster patters with 2 clusters.\n",
        "X = normalized_df3[['Irradiance','Avg temp','Average NO2']];\n",
        "y = normalized_df3['Cluster index'];\n",
        "# removing irregular y axis values and plotting the scatter matix\n",
        "axes2=pd.plotting.scatter_matrix(X,c=y,range_padding=0,alpha=2, figsize=(16,12))\n",
        "axes2[0,0].set_yticklabels([0,0.2,0.4,0.6,0.8,1])"
      ],
      "metadata": {
        "id": "Ecp6hv6aYhHO"
      },
      "execution_count": null,
      "outputs": []
    },
    {
      "cell_type": "markdown",
      "source": [
        "# **Pareto comparison**"
      ],
      "metadata": {
        "id": "MmP13uPgZWG5"
      }
    },
    {
      "cell_type": "code",
      "source": [
        "df_final=df_irradiance_temp_NO2\n",
        "df_final['DominationCount']=0;"
      ],
      "metadata": {
        "id": "vwKv7TAmYhEX"
      },
      "execution_count": null,
      "outputs": []
    },
    {
      "cell_type": "code",
      "source": [
        "for i, row in df_final.iterrows():\n",
        "    irr1 = row['Irradiance'] # Get the values irr, temp and no for this row\n",
        "    temp1 = row['Avg temp']\n",
        "    no1 = row['Average NO2']\n",
        "    dominance = 0\n",
        "    for j, row2 in df_final.iterrows(): # Go over the complete dataset\n",
        "        irr2 = row2['Irradiance']\n",
        "        temp2 = row2['Avg temp']\n",
        "        no2 = row2['Average NO2']\n",
        "        if (no2 < no1) or (temp2 > temp1) or (irr2 < irr1): # Check if the row has all features >= the current row\n",
        "          continue\n",
        "        if (no2 > no1) or (temp2 < temp1) or (irr2 > irr1): # And one of the features dominates\n",
        "          dominance += 1\n",
        "    \n",
        "    df_final.at[i, 'DominationCount'] = dominance # Output the final dominance\n",
        "df_final=df_final.set_index('City Name')"
      ],
      "metadata": {
        "id": "LugYPKCsYhBg"
      },
      "execution_count": null,
      "outputs": []
    },
    {
      "cell_type": "markdown",
      "source": [
        "Pareto Analysis on Irradiance"
      ],
      "metadata": {
        "id": "ZygMpP5VaIKN"
      }
    },
    {
      "cell_type": "code",
      "source": [
        "df_final = df_final.sort_values(by='DominationCount', ascending=True)\n",
        "df_final['Irradiancecum'] = df_final['Irradiance'].cumsum()/df_final['Irradiance'].sum()*100"
      ],
      "metadata": {
        "id": "UoJjpCXHYg-W"
      },
      "execution_count": null,
      "outputs": []
    },
    {
      "cell_type": "code",
      "source": [
        "import matplotlib.pyplot as plt\n",
        "from matplotlib.ticker import PercentFormatter\n",
        "\n",
        "color1 = 'steelblue'\n",
        "color2 = 'red'\n",
        "line_size = 4\n",
        "fig, ax = plt.subplots(figsize=(20,10))\n",
        "ax.bar(df_final.index, df_final['Irradiance'], color=color1)\n",
        "ax2 = ax.twinx()\n",
        "ax2.plot(df_final.index, df_final['Irradiancecum'], color=color2, marker=\"D\", ms=line_size)\n",
        "ax2.yaxis.set_major_formatter(PercentFormatter())\n",
        "ax.tick_params(axis='y', colors=color1,)\n",
        "ax2.tick_params(axis='y', colors=color2)\n",
        "\n",
        "ax.set_xticklabels(df_final.index, rotation = 90)\n",
        "plt.title(\"Irradiance Distribution\")\n",
        "ax.set_ylabel('Irradiance(kW-hr/m^2/day)')\n",
        "ax2.set_ylabel('Cumulative Distribution')\n",
        "\n",
        "plt.show()"
      ],
      "metadata": {
        "id": "0fFKMZx9Yg64"
      },
      "execution_count": null,
      "outputs": []
    },
    {
      "cell_type": "markdown",
      "source": [
        "Pareto Analysis for Average Temperature"
      ],
      "metadata": {
        "id": "U5vpZh6MaSOE"
      }
    },
    {
      "cell_type": "code",
      "source": [
        "df_final = df_final.sort_values(by='Avg temp', ascending=False)\n",
        "df_final['Avgtempcum'] = df_final['Avg temp'].cumsum()/df_final['Avg temp'].sum()*100"
      ],
      "metadata": {
        "id": "K0IFb08YaS7n"
      },
      "execution_count": null,
      "outputs": []
    },
    {
      "cell_type": "code",
      "source": [
        "import matplotlib.pyplot as plt\n",
        "from matplotlib.ticker import PercentFormatter\n",
        "\n",
        "color1 = 'steelblue'\n",
        "color2 = 'red'\n",
        "line_size = 4\n",
        "fig, ax = plt.subplots(figsize=(20,10))\n",
        "ax.bar(df_final.index, df_final['Avg temp'], color=color1)\n",
        "ax2 = ax.twinx()\n",
        "ax2.plot(df_final.index, df_final['Avgtempcum'], color=color2, marker=\"D\", ms=line_size)\n",
        "ax2.yaxis.set_major_formatter(PercentFormatter())\n",
        "ax.tick_params(axis='y', colors=color1)\n",
        "ax2.tick_params(axis='y', colors=color2)\n",
        "\n",
        "ax.set_xticklabels(df_final.index, rotation = 90)\n",
        "plt.title(\"Temperature Distribution\")\n",
        "ax.set_ylabel('Average Temperature(C)')\n",
        "ax2.set_ylabel('Cumulative Distribution')\n",
        "plt.show()"
      ],
      "metadata": {
        "id": "uQkyitIfaVyd"
      },
      "execution_count": null,
      "outputs": []
    },
    {
      "cell_type": "markdown",
      "source": [
        "Pareto Analysis for Average No2"
      ],
      "metadata": {
        "id": "ABNGN36LabD_"
      }
    },
    {
      "cell_type": "code",
      "source": [
        "df_final = df_final.sort_values(by='Average NO2', ascending=False)\n",
        "df_final['AvgNo2cum'] = df_final['Average NO2'].cumsum()/df_final['Average NO2'].sum()*100"
      ],
      "metadata": {
        "id": "fGt3R9n-aYuJ"
      },
      "execution_count": null,
      "outputs": []
    },
    {
      "cell_type": "code",
      "source": [
        "import matplotlib.pyplot as plt\n",
        "from matplotlib.ticker import PercentFormatter\n",
        "\n",
        "color1 = 'steelblue'\n",
        "color2 = 'red'\n",
        "line_size = 4\n",
        "fig, ax = plt.subplots(figsize=(20,10))\n",
        "ax.bar(df_final.index, df_final['Average NO2'], color=color1)\n",
        "ax2 = ax.twinx()\n",
        "ax2.plot(df_final.index, df_final['AvgNo2cum'], color=color2, marker=\"D\", ms=line_size)\n",
        "ax2.yaxis.set_major_formatter(PercentFormatter())\n",
        "\n",
        "ax.tick_params(axis='y', colors=color1)\n",
        "ax2.tick_params(axis='y', colors=color2)\n",
        "\n",
        "ax.set_xticklabels(df_final.index, rotation = 90)\n",
        "plt.title(\"NO2()\")\n",
        "ax.set_ylabel('Average Temperature(C)')\n",
        "ax2.set_ylabel('Cumulative Distribution')\n",
        "plt.show()"
      ],
      "metadata": {
        "id": "1ge4PB8vacTp"
      },
      "execution_count": null,
      "outputs": []
    },
    {
      "cell_type": "markdown",
      "source": [
        "Plots"
      ],
      "metadata": {
        "id": "IeUF_FyYamtA"
      }
    },
    {
      "cell_type": "markdown",
      "source": [
        "3-D SCATTER CHART"
      ],
      "metadata": {
        "id": "XlEGXuXrano5"
      }
    },
    {
      "cell_type": "code",
      "source": [
        "import plotly.express as px\n",
        "\n",
        "df_final_irr=df_final.copy()\n",
        "is_0=df_final['DominationCount']==0\n",
        "fig = px.scatter_3d(df_final_irr, x='Irradiance', y='Average NO2', z='Avg temp',\n",
        "                    color='DominationCount',symbol=is_0,hover_data=[df_final_irr.index,'DominationCount'])\n",
        "fig.update(layout_showlegend=False)\n",
        "\n",
        "fig.show()"
      ],
      "metadata": {
        "id": "VQBf6WMGai6K"
      },
      "execution_count": null,
      "outputs": []
    },
    {
      "cell_type": "markdown",
      "source": [
        "SCATTTER MATRIX CHARTS"
      ],
      "metadata": {
        "id": "4c-f12rYauxj"
      }
    },
    {
      "cell_type": "code",
      "source": [
        "import plotly.express as px\n",
        "\n",
        "df_final2=df_final.sort_index()\n",
        "fig = px.scatter_matrix(df_final2,\n",
        "    dimensions=[\"Irradiance\", \"Average NO2\", \"Avg temp\"],\n",
        "    color=df_final2.index)\n",
        "\n",
        "fig.show()"
      ],
      "metadata": {
        "id": "WmA5ZjHfasOj"
      },
      "execution_count": null,
      "outputs": []
    },
    {
      "cell_type": "code",
      "source": [
        "df1=df_final.reset_index(inplace=False)"
      ],
      "metadata": {
        "id": "vPVcA-AnayEe"
      },
      "execution_count": null,
      "outputs": []
    },
    {
      "cell_type": "code",
      "source": [
        "df1=df1.drop(columns=['DominationCount'])\n",
        "\n",
        "df2 = pd.melt(df1, id_vars=['City Name','Irradiancecum','Avgtempcum','AvgNo2cum'], \n",
        "                  var_name=\"Indicators\", value_name=\"Value\")"
      ],
      "metadata": {
        "id": "yHWcQe9Ya1C1"
      },
      "execution_count": null,
      "outputs": []
    },
    {
      "cell_type": "markdown",
      "source": [
        "POLAR SCATTER CHART"
      ],
      "metadata": {
        "id": "uilLF2_-a94W"
      }
    },
    {
      "cell_type": "code",
      "source": [
        "import plotly.express as px\n",
        "\n",
        "df_final3=df2.sort_values('City Name')\n",
        "\n",
        "fig = px.scatter_polar(df_final3,r='Value'\n",
        "                       ,theta='Indicators',color='City Name'\n",
        "                       )\n",
        "fig.show()"
      ],
      "metadata": {
        "id": "1ZKpGOsKa6qV"
      },
      "execution_count": null,
      "outputs": []
    },
    {
      "cell_type": "markdown",
      "source": [
        "POLAR LINE CHART"
      ],
      "metadata": {
        "id": "U0a4Ox29bAkv"
      }
    },
    {
      "cell_type": "code",
      "source": [
        "import plotly.express as px\n",
        "\n",
        "fig = px.line_polar(df_final3,r='Value'\n",
        "                       ,theta='Indicators',color='City Name',line_close=True,\n",
        "                     template=\"plotly_dark\"\n",
        "                       )\n",
        "fig.show()"
      ],
      "metadata": {
        "id": "MYTqY4nnbDjA"
      },
      "execution_count": null,
      "outputs": []
    }
  ]
}