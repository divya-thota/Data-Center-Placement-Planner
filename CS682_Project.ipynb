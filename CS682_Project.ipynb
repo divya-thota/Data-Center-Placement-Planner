{
  "nbformat": 4,
  "nbformat_minor": 0,
  "metadata": {
    "colab": {
      "name": "CS682 Project.ipynb",
      "provenance": [],
      "include_colab_link": true
    },
    "kernelspec": {
      "name": "python3",
      "display_name": "Python 3"
    },
    "language_info": {
      "name": "python"
    }
  },
  "cells": [
    {
      "cell_type": "markdown",
      "metadata": {
        "id": "view-in-github",
        "colab_type": "text"
      },
      "source": [
        "<a href=\"https://colab.research.google.com/github/divya2648/CS682/blob/main/CS682_Project.ipynb\" target=\"_parent\"><img src=\"https://colab.research.google.com/assets/colab-badge.svg\" alt=\"Open In Colab\"/></a>"
      ]
    },
    {
      "cell_type": "code",
      "execution_count": 2,
      "metadata": {
        "id": "CIAXCOmxGSgb"
      },
      "outputs": [],
      "source": [
        "import requests\n",
        "from geopy.geocoders import Nominatim\n",
        "import re"
      ]
    },
    {
      "cell_type": "code",
      "source": [
        "StrLocation = input(\"Enter Location:\")\n",
        "if re.search('[a-zA-Z]', StrLocation):\n",
        "  geolocator = Nominatim(user_agent='myapplication')\n",
        "  location = geolocator.geocode(StrLocation)\n",
        "  latValue = location.latitude\n",
        "  lonValue = location.longitude\n",
        "else:\n",
        "  latValue = StrLocation.split(',')[0]\n",
        "  lonValue = StrLocation.split(',')[1]\n",
        "\n",
        "print(latValue)\n",
        "print(lonValue)"
      ],
      "metadata": {
        "colab": {
          "base_uri": "https://localhost:8080/"
        },
        "id": "3_il77IKcRYB",
        "outputId": "ea924142-6d17-47be-f13c-0fc965f25aaa"
      },
      "execution_count": 3,
      "outputs": [
        {
          "output_type": "stream",
          "name": "stdout",
          "text": [
            "Enter Location:Boston,MA\n",
            "42.3602534\n",
            "-71.0582912\n"
          ]
        }
      ]
    },
    {
      "cell_type": "code",
      "source": [
        "r = requests.get('https://power.larc.nasa.gov/api/temporal/monthly/point?start=2019&end=2020&latitude='+str(latValue)+'&longitude='+str(lonValue)+'&community=ag&parameters=ALLSKY_SFC_SW_DIFF%2CT2M%2CT2M_MAX%2CT2M_MIN&header=true')"
      ],
      "metadata": {
        "id": "xANyJontIo3m"
      },
      "execution_count": 10,
      "outputs": []
    },
    {
      "cell_type": "code",
      "source": [
        "r.json()"
      ],
      "metadata": {
        "colab": {
          "base_uri": "https://localhost:8080/"
        },
        "id": "tqdxnSehIyps",
        "outputId": "54cb8d8f-a19e-437b-f8e4-c64ca394d199"
      },
      "execution_count": 11,
      "outputs": [
        {
          "output_type": "execute_result",
          "data": {
            "text/plain": [
              "{'geometry': {'coordinates': [-71.0582912, 42.3602534, 71.06],\n",
              "  'type': 'Point'},\n",
              " 'header': {'api': {'name': 'POWER Monthly and Annual API',\n",
              "   'version': 'v2.2.17'},\n",
              "  'end': '20201231',\n",
              "  'fill_value': -999.0,\n",
              "  'start': '20190101',\n",
              "  'title': 'NASA/POWER CERES/MERRA2 Native Resolution Monthly and Annual'},\n",
              " 'messages': [],\n",
              " 'parameters': {'ALLSKY_SFC_SW_DIFF': {'longname': 'All Sky Surface Shortwave Diffuse Irradiance',\n",
              "   'units': 'MJ/m^2/day'},\n",
              "  'T2M': {'longname': 'Temperature at 2 Meters', 'units': 'C'},\n",
              "  'T2M_MAX': {'longname': 'Temperature at 2 Meters Maximum', 'units': 'C'},\n",
              "  'T2M_MIN': {'longname': 'Temperature at 2 Meters Minimum', 'units': 'C'}},\n",
              " 'properties': {'parameter': {'ALLSKY_SFC_SW_DIFF': {'201901': 3.04,\n",
              "    '201902': 4.57,\n",
              "    '201903': 5.64,\n",
              "    '201904': 6.5,\n",
              "    '201905': 7.71,\n",
              "    '201906': 8.26,\n",
              "    '201907': 8.56,\n",
              "    '201908': 7.79,\n",
              "    '201909': 6.07,\n",
              "    '201910': 4.6,\n",
              "    '201911': 2.53,\n",
              "    '201912': 2.8,\n",
              "    '201913': 5.68,\n",
              "    '202001': 3.17,\n",
              "    '202002': 3.62,\n",
              "    '202003': 5.03,\n",
              "    '202004': 7.3,\n",
              "    '202005': 8.26,\n",
              "    '202006': 8.53,\n",
              "    '202007': 9.01,\n",
              "    '202008': 7.76,\n",
              "    '202009': 6.82,\n",
              "    '202010': 4.11,\n",
              "    '202011': 3.08,\n",
              "    '202012': 2.82,\n",
              "    '202013': 5.8},\n",
              "   'T2M': {'201901': -3.83,\n",
              "    '201902': -2.63,\n",
              "    '201903': 0.53,\n",
              "    '201904': 7.93,\n",
              "    '201905': 12.38,\n",
              "    '201906': 18.44,\n",
              "    '201907': 23.24,\n",
              "    '201908': 21.82,\n",
              "    '201909': 18.01,\n",
              "    '201910': 12.26,\n",
              "    '201911': 2.83,\n",
              "    '201912': -0.49,\n",
              "    '201913': 9.27,\n",
              "    '202001': -0.55,\n",
              "    '202002': -0.92,\n",
              "    '202003': 3.5,\n",
              "    '202004': 5.62,\n",
              "    '202005': 12.46,\n",
              "    '202006': 19.7,\n",
              "    '202007': 24.17,\n",
              "    '202008': 23.38,\n",
              "    '202009': 18.42,\n",
              "    '202010': 11.89,\n",
              "    '202011': 7.25,\n",
              "    '202012': 0.72,\n",
              "    '202013': 10.51},\n",
              "   'T2M_MAX': {'201901': 12.22,\n",
              "    '201902': 12.75,\n",
              "    '201903': 16.44,\n",
              "    '201904': 19.65,\n",
              "    '201905': 26.24,\n",
              "    '201906': 29.95,\n",
              "    '201907': 32.55,\n",
              "    '201908': 31.59,\n",
              "    '201909': 30.64,\n",
              "    '201910': 25.05,\n",
              "    '201911': 20.77,\n",
              "    '201912': 13.43,\n",
              "    '201913': 32.55,\n",
              "    '202001': 16.55,\n",
              "    '202002': 11.17,\n",
              "    '202003': 16.57,\n",
              "    '202004': 17.45,\n",
              "    '202005': 26.59,\n",
              "    '202006': 31.8,\n",
              "    '202007': 35.61,\n",
              "    '202008': 34.9,\n",
              "    '202009': 31.87,\n",
              "    '202010': 24.75,\n",
              "    '202011': 22.34,\n",
              "    '202012': 16.73,\n",
              "    '202013': 35.61},\n",
              "   'T2M_MIN': {'201901': -19.43,\n",
              "    '201902': -15.54,\n",
              "    '201903': -13.5,\n",
              "    '201904': -4.13,\n",
              "    '201905': 2.27,\n",
              "    '201906': 7.18,\n",
              "    '201907': 13.79,\n",
              "    '201908': 10.85,\n",
              "    '201909': 6.11,\n",
              "    '201910': 2.87,\n",
              "    '201911': -7.7,\n",
              "    '201912': -13.02,\n",
              "    '201913': -19.43,\n",
              "    '202001': -13.41,\n",
              "    '202002': -17.42,\n",
              "    '202003': -9.0,\n",
              "    '202004': -3.28,\n",
              "    '202005': 0.17,\n",
              "    '202006': 4.65,\n",
              "    '202007': 14.61,\n",
              "    '202008': 12.08,\n",
              "    '202009': 5.89,\n",
              "    '202010': -5.81,\n",
              "    '202011': -5.7,\n",
              "    '202012': -11.89,\n",
              "    '202013': -17.42}}},\n",
              " 'times': {'data': 0.823, 'process': 0.03},\n",
              " 'type': 'Feature'}"
            ]
          },
          "metadata": {},
          "execution_count": 11
        }
      ]
    }
  ]
}